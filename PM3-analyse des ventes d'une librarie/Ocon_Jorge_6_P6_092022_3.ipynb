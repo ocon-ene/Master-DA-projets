{
 "cells": [
  {
   "cell_type": "markdown",
   "id": "eb584a8c",
   "metadata": {},
   "source": [
    "#### Importation des libreries et creation de funcion d'analyse"
   ]
  },
  {
   "cell_type": "code",
   "execution_count": 1,
   "id": "ea01c5f1",
   "metadata": {},
   "outputs": [],
   "source": [
    "# %load C:/Users/ocon_/Sync/1_Data_analyst/inicio_.py\n",
    "import pandas as pd\n",
    "import numpy as np\n",
    "import seaborn as sns \n",
    "\n",
    "import natsort as ns\n",
    "\n",
    "import seaborn as sns\n",
    "import matplotlib.pyplot as plt\n",
    "\n",
    "import scipy.stats as st\n",
    "import statsmodels.api as sm\n",
    "\n",
    "from datetime import datetime\n",
    "\n",
    "import scipy.stats as stats\n",
    "\n",
    "def decrire_table(val):\n",
    "    \"\"\"\n",
    "    Applies dtypes, describe(), isnull().sum() and .duplicated()sum() methods to the data frame\n",
    "    \"\"\"\n",
    "    print(\"-\"*20)\n",
    "    print(val.dtypes)\n",
    "    print(\"-\"*20)\n",
    "    print(val.describe())\n",
    "    print(\"-\"*20)\n",
    "    print(\"Number of NAN:\\n\",val.isnull().sum())\n",
    "    print(\"-\"*20)\n",
    "    print(\"Number of duplicates: \", val.duplicated(keep=False).sum())\n",
    "\n",
    "def eta_squared(x,y):\n",
    "    moyenne_y = y.mean()\n",
    "    classes = []\n",
    "    for classe in x.unique():\n",
    "        yi_classe = y[x==classe]\n",
    "        classes.append({'ni': len(yi_classe),\n",
    "                        'moyenne_classe': yi_classe.mean()})\n",
    "    SCT = sum([(yj-moyenne_y)**2 for yj in y])\n",
    "    SCE = sum([c['ni']*(c['moyenne_classe']-moyenne_y)**2 for c in classes])\n",
    "    return SCE/SCT"
   ]
  },
  {
   "cell_type": "code",
   "execution_count": 2,
   "id": "a085644d",
   "metadata": {},
   "outputs": [
    {
     "name": "stdout",
     "output_type": "stream",
     "text": [
      "numpy version is 1.21.5\n",
      "pandas version is 1.4.2\n",
      "seaborn version is 0.11.2\n",
      "natsort version is 8.1.0\n"
     ]
    }
   ],
   "source": [
    "print('numpy version is {}'.format(np.__version__))\n",
    "print('pandas version is {}'.format(pd.__version__))\n",
    "print('seaborn version is {}'.format(sns.__version__))\n",
    "print('natsort version is {}'.format(ns.__version__))"
   ]
  },
  {
   "cell_type": "code",
   "execution_count": 3,
   "id": "fa8a033b",
   "metadata": {},
   "outputs": [],
   "source": [
    "customers = pd.read_csv(\"C:/Users/ocon_/Sync/1_Data_analyst/P6_ocon_jorge/P6_ocon_jorge_2/customers.csv\")\n",
    "products = pd.read_csv(\"C:/Users/ocon_/Sync/1_Data_analyst/P6_ocon_jorge/P6_ocon_jorge_2/products.csv\")\n",
    "transactions = pd.read_csv(\"C:/Users/ocon_/Sync/1_Data_analyst/P6_ocon_jorge/P6_ocon_jorge_2/transactions.csv\")\n",
    "\n",
    "customers_save = customers.copy()\n",
    "transactions_save = transactions.copy()\n",
    "products_save = products.copy()"
   ]
  },
  {
   "cell_type": "markdown",
   "id": "b8ccb967",
   "metadata": {},
   "source": [
    " ### Nettoyage des données"
   ]
  },
  {
   "cell_type": "markdown",
   "id": "9f5a133d",
   "metadata": {},
   "source": [
    "#### Revision du tableau \"products\""
   ]
  },
  {
   "cell_type": "code",
   "execution_count": 4,
   "id": "96c5c6d0",
   "metadata": {
    "scrolled": false
   },
   "outputs": [
    {
     "name": "stdout",
     "output_type": "stream",
     "text": [
      "--------------------\n",
      "id_prod     object\n",
      "price      float64\n",
      "categ        int64\n",
      "dtype: object\n",
      "--------------------\n",
      "             price        categ\n",
      "count  3287.000000  3287.000000\n",
      "mean     21.856641     0.370246\n",
      "std      29.847908     0.615387\n",
      "min      -1.000000     0.000000\n",
      "25%       6.990000     0.000000\n",
      "50%      13.060000     0.000000\n",
      "75%      22.990000     1.000000\n",
      "max     300.000000     2.000000\n",
      "--------------------\n",
      "Number of NAN:\n",
      " id_prod    0\n",
      "price      0\n",
      "categ      0\n",
      "dtype: int64\n",
      "--------------------\n",
      "Number of duplicates:  0\n"
     ]
    }
   ],
   "source": [
    "decrire_table(products)"
   ]
  },
  {
   "cell_type": "code",
   "execution_count": 5,
   "id": "fdedd483",
   "metadata": {},
   "outputs": [
    {
     "data": {
      "text/html": [
       "<div>\n",
       "<style scoped>\n",
       "    .dataframe tbody tr th:only-of-type {\n",
       "        vertical-align: middle;\n",
       "    }\n",
       "\n",
       "    .dataframe tbody tr th {\n",
       "        vertical-align: top;\n",
       "    }\n",
       "\n",
       "    .dataframe thead th {\n",
       "        text-align: right;\n",
       "    }\n",
       "</style>\n",
       "<table border=\"1\" class=\"dataframe\">\n",
       "  <thead>\n",
       "    <tr style=\"text-align: right;\">\n",
       "      <th></th>\n",
       "      <th>id_prod</th>\n",
       "      <th>price</th>\n",
       "      <th>categ</th>\n",
       "    </tr>\n",
       "  </thead>\n",
       "  <tbody>\n",
       "    <tr>\n",
       "      <th>731</th>\n",
       "      <td>T_0</td>\n",
       "      <td>-1.0</td>\n",
       "      <td>0</td>\n",
       "    </tr>\n",
       "  </tbody>\n",
       "</table>\n",
       "</div>"
      ],
      "text/plain": [
       "    id_prod  price  categ\n",
       "731     T_0   -1.0      0"
      ]
     },
     "execution_count": 5,
     "metadata": {},
     "output_type": "execute_result"
    }
   ],
   "source": [
    "products.loc[products['price'] <= 0, ]"
   ]
  },
  {
   "cell_type": "code",
   "execution_count": 6,
   "id": "51692339",
   "metadata": {},
   "outputs": [],
   "source": [
    "products = products.drop([731])"
   ]
  },
  {
   "cell_type": "markdown",
   "id": "e0ee27bd",
   "metadata": {},
   "source": [
    "#### Revision du tableau \"customers\""
   ]
  },
  {
   "cell_type": "code",
   "execution_count": 7,
   "id": "40ef3a5f",
   "metadata": {},
   "outputs": [
    {
     "name": "stdout",
     "output_type": "stream",
     "text": [
      "--------------------\n",
      "client_id    object\n",
      "sex          object\n",
      "birth         int64\n",
      "dtype: object\n",
      "--------------------\n",
      "             birth\n",
      "count  8623.000000\n",
      "mean   1978.280877\n",
      "std      16.919535\n",
      "min    1929.000000\n",
      "25%    1966.000000\n",
      "50%    1979.000000\n",
      "75%    1992.000000\n",
      "max    2004.000000\n",
      "--------------------\n",
      "Number of NAN:\n",
      " client_id    0\n",
      "sex          0\n",
      "birth        0\n",
      "dtype: int64\n",
      "--------------------\n",
      "Number of duplicates:  0\n"
     ]
    }
   ],
   "source": [
    "decrire_table(customers)"
   ]
  },
  {
   "cell_type": "markdown",
   "id": "cafc8e0b",
   "metadata": {},
   "source": [
    "#### Revision du tableau \"transactions\""
   ]
  },
  {
   "cell_type": "code",
   "execution_count": 8,
   "id": "02207c74",
   "metadata": {},
   "outputs": [
    {
     "name": "stdout",
     "output_type": "stream",
     "text": [
      "--------------------\n",
      "id_prod       object\n",
      "date          object\n",
      "session_id    object\n",
      "client_id     object\n",
      "dtype: object\n",
      "--------------------\n",
      "       id_prod                             date session_id client_id\n",
      "count   679532                           679532     679532    679532\n",
      "unique    3267                           679371     342316      8602\n",
      "top      1_369  test_2021-03-01 02:30:02.237413        s_0    c_1609\n",
      "freq      2252                               13        200     25488\n",
      "--------------------\n",
      "Number of NAN:\n",
      " id_prod       0\n",
      "date          0\n",
      "session_id    0\n",
      "client_id     0\n",
      "dtype: int64\n",
      "--------------------\n",
      "Number of duplicates:  183\n"
     ]
    }
   ],
   "source": [
    "decrire_table(transactions)"
   ]
  },
  {
   "cell_type": "code",
   "execution_count": 9,
   "id": "c99efe29",
   "metadata": {},
   "outputs": [
    {
     "data": {
      "text/html": [
       "<div>\n",
       "<style scoped>\n",
       "    .dataframe tbody tr th:only-of-type {\n",
       "        vertical-align: middle;\n",
       "    }\n",
       "\n",
       "    .dataframe tbody tr th {\n",
       "        vertical-align: top;\n",
       "    }\n",
       "\n",
       "    .dataframe thead th {\n",
       "        text-align: right;\n",
       "    }\n",
       "</style>\n",
       "<table border=\"1\" class=\"dataframe\">\n",
       "  <thead>\n",
       "    <tr style=\"text-align: right;\">\n",
       "      <th></th>\n",
       "      <th>id_prod</th>\n",
       "      <th>date</th>\n",
       "      <th>session_id</th>\n",
       "      <th>client_id</th>\n",
       "    </tr>\n",
       "  </thead>\n",
       "  <tbody>\n",
       "    <tr>\n",
       "      <th>3019</th>\n",
       "      <td>T_0</td>\n",
       "      <td>test_2021-03-01 02:30:02.237419</td>\n",
       "      <td>s_0</td>\n",
       "      <td>ct_0</td>\n",
       "    </tr>\n",
       "    <tr>\n",
       "      <th>5138</th>\n",
       "      <td>T_0</td>\n",
       "      <td>test_2021-03-01 02:30:02.237425</td>\n",
       "      <td>s_0</td>\n",
       "      <td>ct_0</td>\n",
       "    </tr>\n",
       "    <tr>\n",
       "      <th>9668</th>\n",
       "      <td>T_0</td>\n",
       "      <td>test_2021-03-01 02:30:02.237437</td>\n",
       "      <td>s_0</td>\n",
       "      <td>ct_1</td>\n",
       "    </tr>\n",
       "    <tr>\n",
       "      <th>10728</th>\n",
       "      <td>T_0</td>\n",
       "      <td>test_2021-03-01 02:30:02.237436</td>\n",
       "      <td>s_0</td>\n",
       "      <td>ct_0</td>\n",
       "    </tr>\n",
       "    <tr>\n",
       "      <th>15292</th>\n",
       "      <td>T_0</td>\n",
       "      <td>test_2021-03-01 02:30:02.237430</td>\n",
       "      <td>s_0</td>\n",
       "      <td>ct_0</td>\n",
       "    </tr>\n",
       "    <tr>\n",
       "      <th>...</th>\n",
       "      <td>...</td>\n",
       "      <td>...</td>\n",
       "      <td>...</td>\n",
       "      <td>...</td>\n",
       "    </tr>\n",
       "    <tr>\n",
       "      <th>657830</th>\n",
       "      <td>T_0</td>\n",
       "      <td>test_2021-03-01 02:30:02.237417</td>\n",
       "      <td>s_0</td>\n",
       "      <td>ct_0</td>\n",
       "    </tr>\n",
       "    <tr>\n",
       "      <th>662081</th>\n",
       "      <td>T_0</td>\n",
       "      <td>test_2021-03-01 02:30:02.237427</td>\n",
       "      <td>s_0</td>\n",
       "      <td>ct_1</td>\n",
       "    </tr>\n",
       "    <tr>\n",
       "      <th>670680</th>\n",
       "      <td>T_0</td>\n",
       "      <td>test_2021-03-01 02:30:02.237449</td>\n",
       "      <td>s_0</td>\n",
       "      <td>ct_1</td>\n",
       "    </tr>\n",
       "    <tr>\n",
       "      <th>671647</th>\n",
       "      <td>T_0</td>\n",
       "      <td>test_2021-03-01 02:30:02.237424</td>\n",
       "      <td>s_0</td>\n",
       "      <td>ct_1</td>\n",
       "    </tr>\n",
       "    <tr>\n",
       "      <th>679180</th>\n",
       "      <td>T_0</td>\n",
       "      <td>test_2021-03-01 02:30:02.237425</td>\n",
       "      <td>s_0</td>\n",
       "      <td>ct_1</td>\n",
       "    </tr>\n",
       "  </tbody>\n",
       "</table>\n",
       "<p>200 rows × 4 columns</p>\n",
       "</div>"
      ],
      "text/plain": [
       "       id_prod                             date session_id client_id\n",
       "3019       T_0  test_2021-03-01 02:30:02.237419        s_0      ct_0\n",
       "5138       T_0  test_2021-03-01 02:30:02.237425        s_0      ct_0\n",
       "9668       T_0  test_2021-03-01 02:30:02.237437        s_0      ct_1\n",
       "10728      T_0  test_2021-03-01 02:30:02.237436        s_0      ct_0\n",
       "15292      T_0  test_2021-03-01 02:30:02.237430        s_0      ct_0\n",
       "...        ...                              ...        ...       ...\n",
       "657830     T_0  test_2021-03-01 02:30:02.237417        s_0      ct_0\n",
       "662081     T_0  test_2021-03-01 02:30:02.237427        s_0      ct_1\n",
       "670680     T_0  test_2021-03-01 02:30:02.237449        s_0      ct_1\n",
       "671647     T_0  test_2021-03-01 02:30:02.237424        s_0      ct_1\n",
       "679180     T_0  test_2021-03-01 02:30:02.237425        s_0      ct_1\n",
       "\n",
       "[200 rows x 4 columns]"
      ]
     },
     "execution_count": 9,
     "metadata": {},
     "output_type": "execute_result"
    }
   ],
   "source": [
    "transactions.loc[transactions['session_id'] == 's_0', ]"
   ]
  },
  {
   "cell_type": "code",
   "execution_count": 10,
   "id": "8652205c",
   "metadata": {},
   "outputs": [],
   "source": [
    "transactions = transactions.loc[transactions['session_id'] != 's_0', ]\n",
    "transactions['date'] = pd.to_datetime(transactions['date'], errors='raise')"
   ]
  },
  {
   "cell_type": "code",
   "execution_count": 11,
   "id": "b78a58d0",
   "metadata": {},
   "outputs": [
    {
     "data": {
      "text/html": [
       "<div>\n",
       "<style scoped>\n",
       "    .dataframe tbody tr th:only-of-type {\n",
       "        vertical-align: middle;\n",
       "    }\n",
       "\n",
       "    .dataframe tbody tr th {\n",
       "        vertical-align: top;\n",
       "    }\n",
       "\n",
       "    .dataframe thead th {\n",
       "        text-align: right;\n",
       "    }\n",
       "</style>\n",
       "<table border=\"1\" class=\"dataframe\">\n",
       "  <thead>\n",
       "    <tr style=\"text-align: right;\">\n",
       "      <th></th>\n",
       "      <th>id_prod</th>\n",
       "      <th>date</th>\n",
       "      <th>session_id</th>\n",
       "      <th>client_id</th>\n",
       "    </tr>\n",
       "  </thead>\n",
       "  <tbody>\n",
       "    <tr>\n",
       "      <th>0</th>\n",
       "      <td>0_1518</td>\n",
       "      <td>2022-05-20 13:21:29.043970</td>\n",
       "      <td>s_211425</td>\n",
       "      <td>c_103</td>\n",
       "    </tr>\n",
       "    <tr>\n",
       "      <th>1</th>\n",
       "      <td>1_251</td>\n",
       "      <td>2022-02-02 07:55:19.149409</td>\n",
       "      <td>s_158752</td>\n",
       "      <td>c_8534</td>\n",
       "    </tr>\n",
       "    <tr>\n",
       "      <th>2</th>\n",
       "      <td>0_1277</td>\n",
       "      <td>2022-06-18 15:44:33.155329</td>\n",
       "      <td>s_225667</td>\n",
       "      <td>c_6714</td>\n",
       "    </tr>\n",
       "    <tr>\n",
       "      <th>3</th>\n",
       "      <td>2_209</td>\n",
       "      <td>2021-06-24 04:19:29.835891</td>\n",
       "      <td>s_52962</td>\n",
       "      <td>c_6941</td>\n",
       "    </tr>\n",
       "    <tr>\n",
       "      <th>4</th>\n",
       "      <td>0_1509</td>\n",
       "      <td>2023-01-11 08:22:08.194479</td>\n",
       "      <td>s_325227</td>\n",
       "      <td>c_4232</td>\n",
       "    </tr>\n",
       "    <tr>\n",
       "      <th>...</th>\n",
       "      <td>...</td>\n",
       "      <td>...</td>\n",
       "      <td>...</td>\n",
       "      <td>...</td>\n",
       "    </tr>\n",
       "    <tr>\n",
       "      <th>679527</th>\n",
       "      <td>0_1551</td>\n",
       "      <td>2022-01-15 13:05:06.246925</td>\n",
       "      <td>s_150195</td>\n",
       "      <td>c_8489</td>\n",
       "    </tr>\n",
       "    <tr>\n",
       "      <th>679528</th>\n",
       "      <td>1_639</td>\n",
       "      <td>2022-03-19 16:03:23.429229</td>\n",
       "      <td>s_181434</td>\n",
       "      <td>c_4370</td>\n",
       "    </tr>\n",
       "    <tr>\n",
       "      <th>679529</th>\n",
       "      <td>0_1425</td>\n",
       "      <td>2022-12-20 04:33:37.584749</td>\n",
       "      <td>s_314704</td>\n",
       "      <td>c_304</td>\n",
       "    </tr>\n",
       "    <tr>\n",
       "      <th>679530</th>\n",
       "      <td>0_1994</td>\n",
       "      <td>2021-07-16 20:36:35.350579</td>\n",
       "      <td>s_63204</td>\n",
       "      <td>c_2227</td>\n",
       "    </tr>\n",
       "    <tr>\n",
       "      <th>679531</th>\n",
       "      <td>1_523</td>\n",
       "      <td>2022-09-28 01:12:01.973763</td>\n",
       "      <td>s_274568</td>\n",
       "      <td>c_3873</td>\n",
       "    </tr>\n",
       "  </tbody>\n",
       "</table>\n",
       "<p>679332 rows × 4 columns</p>\n",
       "</div>"
      ],
      "text/plain": [
       "       id_prod                       date session_id client_id\n",
       "0       0_1518 2022-05-20 13:21:29.043970   s_211425     c_103\n",
       "1        1_251 2022-02-02 07:55:19.149409   s_158752    c_8534\n",
       "2       0_1277 2022-06-18 15:44:33.155329   s_225667    c_6714\n",
       "3        2_209 2021-06-24 04:19:29.835891    s_52962    c_6941\n",
       "4       0_1509 2023-01-11 08:22:08.194479   s_325227    c_4232\n",
       "...        ...                        ...        ...       ...\n",
       "679527  0_1551 2022-01-15 13:05:06.246925   s_150195    c_8489\n",
       "679528   1_639 2022-03-19 16:03:23.429229   s_181434    c_4370\n",
       "679529  0_1425 2022-12-20 04:33:37.584749   s_314704     c_304\n",
       "679530  0_1994 2021-07-16 20:36:35.350579    s_63204    c_2227\n",
       "679531   1_523 2022-09-28 01:12:01.973763   s_274568    c_3873\n",
       "\n",
       "[679332 rows x 4 columns]"
      ]
     },
     "execution_count": 11,
     "metadata": {},
     "output_type": "execute_result"
    }
   ],
   "source": [
    "transactions"
   ]
  },
  {
   "cell_type": "markdown",
   "id": "12d9328a",
   "metadata": {},
   "source": [
    "#### Merge des trois tableaux et modifications avant analyse"
   ]
  },
  {
   "cell_type": "code",
   "execution_count": 12,
   "id": "373ee8e5",
   "metadata": {},
   "outputs": [],
   "source": [
    "products_transactions = products.merge(transactions, on=\"id_prod\")\n",
    "customers_achats = customers.merge(products_transactions, on=\"client_id\")\n",
    "customers_achats_save = customers_achats.copy() "
   ]
  },
  {
   "cell_type": "code",
   "execution_count": 13,
   "id": "ddec3869",
   "metadata": {},
   "outputs": [
    {
     "data": {
      "text/html": [
       "<div>\n",
       "<style scoped>\n",
       "    .dataframe tbody tr th:only-of-type {\n",
       "        vertical-align: middle;\n",
       "    }\n",
       "\n",
       "    .dataframe tbody tr th {\n",
       "        vertical-align: top;\n",
       "    }\n",
       "\n",
       "    .dataframe thead th {\n",
       "        text-align: right;\n",
       "    }\n",
       "</style>\n",
       "<table border=\"1\" class=\"dataframe\">\n",
       "  <thead>\n",
       "    <tr style=\"text-align: right;\">\n",
       "      <th></th>\n",
       "      <th>client_id</th>\n",
       "      <th>sex</th>\n",
       "      <th>birth</th>\n",
       "      <th>id_prod</th>\n",
       "      <th>price</th>\n",
       "      <th>categ</th>\n",
       "      <th>date</th>\n",
       "      <th>session_id</th>\n",
       "    </tr>\n",
       "  </thead>\n",
       "  <tbody>\n",
       "    <tr>\n",
       "      <th>0</th>\n",
       "      <td>c_4410</td>\n",
       "      <td>f</td>\n",
       "      <td>1967</td>\n",
       "      <td>1_385</td>\n",
       "      <td>25.99</td>\n",
       "      <td>1</td>\n",
       "      <td>2021-03-22 01:40:22.782925</td>\n",
       "      <td>s_9707</td>\n",
       "    </tr>\n",
       "    <tr>\n",
       "      <th>1</th>\n",
       "      <td>c_4410</td>\n",
       "      <td>f</td>\n",
       "      <td>1967</td>\n",
       "      <td>1_385</td>\n",
       "      <td>25.99</td>\n",
       "      <td>1</td>\n",
       "      <td>2023-02-22 01:40:22.782925</td>\n",
       "      <td>s_345108</td>\n",
       "    </tr>\n",
       "    <tr>\n",
       "      <th>2</th>\n",
       "      <td>c_4410</td>\n",
       "      <td>f</td>\n",
       "      <td>1967</td>\n",
       "      <td>0_1110</td>\n",
       "      <td>4.71</td>\n",
       "      <td>0</td>\n",
       "      <td>2021-11-04 16:28:30.169021</td>\n",
       "      <td>s_114715</td>\n",
       "    </tr>\n",
       "    <tr>\n",
       "      <th>3</th>\n",
       "      <td>c_4410</td>\n",
       "      <td>f</td>\n",
       "      <td>1967</td>\n",
       "      <td>0_1111</td>\n",
       "      <td>19.99</td>\n",
       "      <td>0</td>\n",
       "      <td>2023-02-22 01:27:49.480137</td>\n",
       "      <td>s_345108</td>\n",
       "    </tr>\n",
       "    <tr>\n",
       "      <th>4</th>\n",
       "      <td>c_4410</td>\n",
       "      <td>f</td>\n",
       "      <td>1967</td>\n",
       "      <td>0_1111</td>\n",
       "      <td>19.99</td>\n",
       "      <td>0</td>\n",
       "      <td>2021-03-22 01:27:49.480137</td>\n",
       "      <td>s_9707</td>\n",
       "    </tr>\n",
       "    <tr>\n",
       "      <th>...</th>\n",
       "      <td>...</td>\n",
       "      <td>...</td>\n",
       "      <td>...</td>\n",
       "      <td>...</td>\n",
       "      <td>...</td>\n",
       "      <td>...</td>\n",
       "      <td>...</td>\n",
       "      <td>...</td>\n",
       "    </tr>\n",
       "    <tr>\n",
       "      <th>679106</th>\n",
       "      <td>c_84</td>\n",
       "      <td>f</td>\n",
       "      <td>1982</td>\n",
       "      <td>0_1438</td>\n",
       "      <td>9.31</td>\n",
       "      <td>0</td>\n",
       "      <td>2022-05-29 06:11:50.316631</td>\n",
       "      <td>s_215697</td>\n",
       "    </tr>\n",
       "    <tr>\n",
       "      <th>679107</th>\n",
       "      <td>c_84</td>\n",
       "      <td>f</td>\n",
       "      <td>1982</td>\n",
       "      <td>0_1438</td>\n",
       "      <td>9.31</td>\n",
       "      <td>0</td>\n",
       "      <td>2022-03-29 06:11:50.316631</td>\n",
       "      <td>s_186172</td>\n",
       "    </tr>\n",
       "    <tr>\n",
       "      <th>679108</th>\n",
       "      <td>c_84</td>\n",
       "      <td>f</td>\n",
       "      <td>1982</td>\n",
       "      <td>1_459</td>\n",
       "      <td>15.99</td>\n",
       "      <td>1</td>\n",
       "      <td>2022-12-17 00:16:56.629536</td>\n",
       "      <td>s_313173</td>\n",
       "    </tr>\n",
       "    <tr>\n",
       "      <th>679109</th>\n",
       "      <td>c_84</td>\n",
       "      <td>f</td>\n",
       "      <td>1982</td>\n",
       "      <td>1_459</td>\n",
       "      <td>15.99</td>\n",
       "      <td>1</td>\n",
       "      <td>2022-02-17 00:16:56.629536</td>\n",
       "      <td>s_166337</td>\n",
       "    </tr>\n",
       "    <tr>\n",
       "      <th>679110</th>\n",
       "      <td>c_84</td>\n",
       "      <td>f</td>\n",
       "      <td>1982</td>\n",
       "      <td>1_110</td>\n",
       "      <td>54.90</td>\n",
       "      <td>1</td>\n",
       "      <td>2021-09-13 21:39:46.845376</td>\n",
       "      <td>s_89478</td>\n",
       "    </tr>\n",
       "  </tbody>\n",
       "</table>\n",
       "<p>679111 rows × 8 columns</p>\n",
       "</div>"
      ],
      "text/plain": [
       "       client_id sex  birth id_prod  price  categ                       date  \\\n",
       "0         c_4410   f   1967   1_385  25.99      1 2021-03-22 01:40:22.782925   \n",
       "1         c_4410   f   1967   1_385  25.99      1 2023-02-22 01:40:22.782925   \n",
       "2         c_4410   f   1967  0_1110   4.71      0 2021-11-04 16:28:30.169021   \n",
       "3         c_4410   f   1967  0_1111  19.99      0 2023-02-22 01:27:49.480137   \n",
       "4         c_4410   f   1967  0_1111  19.99      0 2021-03-22 01:27:49.480137   \n",
       "...          ...  ..    ...     ...    ...    ...                        ...   \n",
       "679106      c_84   f   1982  0_1438   9.31      0 2022-05-29 06:11:50.316631   \n",
       "679107      c_84   f   1982  0_1438   9.31      0 2022-03-29 06:11:50.316631   \n",
       "679108      c_84   f   1982   1_459  15.99      1 2022-12-17 00:16:56.629536   \n",
       "679109      c_84   f   1982   1_459  15.99      1 2022-02-17 00:16:56.629536   \n",
       "679110      c_84   f   1982   1_110  54.90      1 2021-09-13 21:39:46.845376   \n",
       "\n",
       "       session_id  \n",
       "0          s_9707  \n",
       "1        s_345108  \n",
       "2        s_114715  \n",
       "3        s_345108  \n",
       "4          s_9707  \n",
       "...           ...  \n",
       "679106   s_215697  \n",
       "679107   s_186172  \n",
       "679108   s_313173  \n",
       "679109   s_166337  \n",
       "679110    s_89478  \n",
       "\n",
       "[679111 rows x 8 columns]"
      ]
     },
     "execution_count": 13,
     "metadata": {},
     "output_type": "execute_result"
    }
   ],
   "source": [
    "customers_achats_save"
   ]
  },
  {
   "cell_type": "code",
   "execution_count": 14,
   "id": "1b4b2004",
   "metadata": {},
   "outputs": [],
   "source": [
    "def age_tranche_maker(val):\n",
    "    \"\"\"\n",
    "    Applies a formula that gives any given age a number between 1 and 3 \n",
    "    \"\"\"\n",
    "    x = int((val-1)*3/90)+1\n",
    "    if x == 1 :\n",
    "        return '18-30'\n",
    "    elif x == 2:\n",
    "        return '31-60'\n",
    "    else:\n",
    "        return '60 ou plus'\n",
    "    \n",
    "customers_achats[\"date\"] = customers_achats['date'].dt.round(\"30min\")\n",
    "customers_achats['age'] = customers_achats['date'].dt.year - customers_achats['birth']\n",
    "customers_achats[\"jour_de_la_semaine\"] = customers_achats['date'].dt.day_name()\n",
    "customers_achats['mois_année'] = customers_achats['date'].dt.strftime('%Y-%m')\n",
    "customers_achats[\"Jour_du_mois\"] = customers_achats['date'].dt.day\n",
    "\n",
    "customers_achats['tranche_dage'] = [ age_tranche_maker(age) for age in customers_achats[\"age\"]]"
   ]
  },
  {
   "cell_type": "code",
   "execution_count": 15,
   "id": "c714e745",
   "metadata": {},
   "outputs": [],
   "source": [
    "date_time_str = '22/03/01 00:00:00'\n",
    "\n",
    "date_time_obj = datetime.strptime(date_time_str, '%y/%m/%d %H:%M:%S')\n",
    "\n",
    "customers_achats['Année_CA'] = np.where(customers_achats['date'] <= date_time_obj , '1', '2')\n",
    "#customers_achats.groupby([\"Année_CA\"]).date.max() #verification de la date de CA"
   ]
  },
  {
   "cell_type": "code",
   "execution_count": 16,
   "id": "711e6a88",
   "metadata": {},
   "outputs": [
    {
     "data": {
      "text/html": [
       "<div>\n",
       "<style scoped>\n",
       "    .dataframe tbody tr th:only-of-type {\n",
       "        vertical-align: middle;\n",
       "    }\n",
       "\n",
       "    .dataframe tbody tr th {\n",
       "        vertical-align: top;\n",
       "    }\n",
       "\n",
       "    .dataframe thead th {\n",
       "        text-align: right;\n",
       "    }\n",
       "</style>\n",
       "<table border=\"1\" class=\"dataframe\">\n",
       "  <thead>\n",
       "    <tr style=\"text-align: right;\">\n",
       "      <th></th>\n",
       "      <th>client_id</th>\n",
       "      <th>sex</th>\n",
       "      <th>birth</th>\n",
       "      <th>id_prod</th>\n",
       "      <th>price</th>\n",
       "      <th>categ</th>\n",
       "      <th>date</th>\n",
       "      <th>session_id</th>\n",
       "      <th>age</th>\n",
       "      <th>jour_de_la_semaine</th>\n",
       "      <th>mois_année</th>\n",
       "      <th>Jour_du_mois</th>\n",
       "      <th>tranche_dage</th>\n",
       "      <th>Année_CA</th>\n",
       "    </tr>\n",
       "  </thead>\n",
       "  <tbody>\n",
       "    <tr>\n",
       "      <th>0</th>\n",
       "      <td>c_4410</td>\n",
       "      <td>f</td>\n",
       "      <td>1967</td>\n",
       "      <td>1_385</td>\n",
       "      <td>25.99</td>\n",
       "      <td>1</td>\n",
       "      <td>2021-03-22 01:30:00</td>\n",
       "      <td>s_9707</td>\n",
       "      <td>54</td>\n",
       "      <td>Monday</td>\n",
       "      <td>2021-03</td>\n",
       "      <td>22</td>\n",
       "      <td>31-60</td>\n",
       "      <td>1</td>\n",
       "    </tr>\n",
       "    <tr>\n",
       "      <th>1</th>\n",
       "      <td>c_4410</td>\n",
       "      <td>f</td>\n",
       "      <td>1967</td>\n",
       "      <td>1_385</td>\n",
       "      <td>25.99</td>\n",
       "      <td>1</td>\n",
       "      <td>2023-02-22 01:30:00</td>\n",
       "      <td>s_345108</td>\n",
       "      <td>56</td>\n",
       "      <td>Wednesday</td>\n",
       "      <td>2023-02</td>\n",
       "      <td>22</td>\n",
       "      <td>31-60</td>\n",
       "      <td>2</td>\n",
       "    </tr>\n",
       "    <tr>\n",
       "      <th>2</th>\n",
       "      <td>c_4410</td>\n",
       "      <td>f</td>\n",
       "      <td>1967</td>\n",
       "      <td>0_1110</td>\n",
       "      <td>4.71</td>\n",
       "      <td>0</td>\n",
       "      <td>2021-11-04 16:30:00</td>\n",
       "      <td>s_114715</td>\n",
       "      <td>54</td>\n",
       "      <td>Thursday</td>\n",
       "      <td>2021-11</td>\n",
       "      <td>4</td>\n",
       "      <td>31-60</td>\n",
       "      <td>1</td>\n",
       "    </tr>\n",
       "    <tr>\n",
       "      <th>3</th>\n",
       "      <td>c_4410</td>\n",
       "      <td>f</td>\n",
       "      <td>1967</td>\n",
       "      <td>0_1111</td>\n",
       "      <td>19.99</td>\n",
       "      <td>0</td>\n",
       "      <td>2023-02-22 01:30:00</td>\n",
       "      <td>s_345108</td>\n",
       "      <td>56</td>\n",
       "      <td>Wednesday</td>\n",
       "      <td>2023-02</td>\n",
       "      <td>22</td>\n",
       "      <td>31-60</td>\n",
       "      <td>2</td>\n",
       "    </tr>\n",
       "    <tr>\n",
       "      <th>4</th>\n",
       "      <td>c_4410</td>\n",
       "      <td>f</td>\n",
       "      <td>1967</td>\n",
       "      <td>0_1111</td>\n",
       "      <td>19.99</td>\n",
       "      <td>0</td>\n",
       "      <td>2021-03-22 01:30:00</td>\n",
       "      <td>s_9707</td>\n",
       "      <td>54</td>\n",
       "      <td>Monday</td>\n",
       "      <td>2021-03</td>\n",
       "      <td>22</td>\n",
       "      <td>31-60</td>\n",
       "      <td>1</td>\n",
       "    </tr>\n",
       "    <tr>\n",
       "      <th>...</th>\n",
       "      <td>...</td>\n",
       "      <td>...</td>\n",
       "      <td>...</td>\n",
       "      <td>...</td>\n",
       "      <td>...</td>\n",
       "      <td>...</td>\n",
       "      <td>...</td>\n",
       "      <td>...</td>\n",
       "      <td>...</td>\n",
       "      <td>...</td>\n",
       "      <td>...</td>\n",
       "      <td>...</td>\n",
       "      <td>...</td>\n",
       "      <td>...</td>\n",
       "    </tr>\n",
       "    <tr>\n",
       "      <th>679106</th>\n",
       "      <td>c_84</td>\n",
       "      <td>f</td>\n",
       "      <td>1982</td>\n",
       "      <td>0_1438</td>\n",
       "      <td>9.31</td>\n",
       "      <td>0</td>\n",
       "      <td>2022-05-29 06:00:00</td>\n",
       "      <td>s_215697</td>\n",
       "      <td>40</td>\n",
       "      <td>Sunday</td>\n",
       "      <td>2022-05</td>\n",
       "      <td>29</td>\n",
       "      <td>31-60</td>\n",
       "      <td>2</td>\n",
       "    </tr>\n",
       "    <tr>\n",
       "      <th>679107</th>\n",
       "      <td>c_84</td>\n",
       "      <td>f</td>\n",
       "      <td>1982</td>\n",
       "      <td>0_1438</td>\n",
       "      <td>9.31</td>\n",
       "      <td>0</td>\n",
       "      <td>2022-03-29 06:00:00</td>\n",
       "      <td>s_186172</td>\n",
       "      <td>40</td>\n",
       "      <td>Tuesday</td>\n",
       "      <td>2022-03</td>\n",
       "      <td>29</td>\n",
       "      <td>31-60</td>\n",
       "      <td>2</td>\n",
       "    </tr>\n",
       "    <tr>\n",
       "      <th>679108</th>\n",
       "      <td>c_84</td>\n",
       "      <td>f</td>\n",
       "      <td>1982</td>\n",
       "      <td>1_459</td>\n",
       "      <td>15.99</td>\n",
       "      <td>1</td>\n",
       "      <td>2022-12-17 00:30:00</td>\n",
       "      <td>s_313173</td>\n",
       "      <td>40</td>\n",
       "      <td>Saturday</td>\n",
       "      <td>2022-12</td>\n",
       "      <td>17</td>\n",
       "      <td>31-60</td>\n",
       "      <td>2</td>\n",
       "    </tr>\n",
       "    <tr>\n",
       "      <th>679109</th>\n",
       "      <td>c_84</td>\n",
       "      <td>f</td>\n",
       "      <td>1982</td>\n",
       "      <td>1_459</td>\n",
       "      <td>15.99</td>\n",
       "      <td>1</td>\n",
       "      <td>2022-02-17 00:30:00</td>\n",
       "      <td>s_166337</td>\n",
       "      <td>40</td>\n",
       "      <td>Thursday</td>\n",
       "      <td>2022-02</td>\n",
       "      <td>17</td>\n",
       "      <td>31-60</td>\n",
       "      <td>1</td>\n",
       "    </tr>\n",
       "    <tr>\n",
       "      <th>679110</th>\n",
       "      <td>c_84</td>\n",
       "      <td>f</td>\n",
       "      <td>1982</td>\n",
       "      <td>1_110</td>\n",
       "      <td>54.90</td>\n",
       "      <td>1</td>\n",
       "      <td>2021-09-13 21:30:00</td>\n",
       "      <td>s_89478</td>\n",
       "      <td>39</td>\n",
       "      <td>Monday</td>\n",
       "      <td>2021-09</td>\n",
       "      <td>13</td>\n",
       "      <td>31-60</td>\n",
       "      <td>1</td>\n",
       "    </tr>\n",
       "  </tbody>\n",
       "</table>\n",
       "<p>679111 rows × 14 columns</p>\n",
       "</div>"
      ],
      "text/plain": [
       "       client_id sex  birth id_prod  price  categ                date  \\\n",
       "0         c_4410   f   1967   1_385  25.99      1 2021-03-22 01:30:00   \n",
       "1         c_4410   f   1967   1_385  25.99      1 2023-02-22 01:30:00   \n",
       "2         c_4410   f   1967  0_1110   4.71      0 2021-11-04 16:30:00   \n",
       "3         c_4410   f   1967  0_1111  19.99      0 2023-02-22 01:30:00   \n",
       "4         c_4410   f   1967  0_1111  19.99      0 2021-03-22 01:30:00   \n",
       "...          ...  ..    ...     ...    ...    ...                 ...   \n",
       "679106      c_84   f   1982  0_1438   9.31      0 2022-05-29 06:00:00   \n",
       "679107      c_84   f   1982  0_1438   9.31      0 2022-03-29 06:00:00   \n",
       "679108      c_84   f   1982   1_459  15.99      1 2022-12-17 00:30:00   \n",
       "679109      c_84   f   1982   1_459  15.99      1 2022-02-17 00:30:00   \n",
       "679110      c_84   f   1982   1_110  54.90      1 2021-09-13 21:30:00   \n",
       "\n",
       "       session_id  age jour_de_la_semaine mois_année  Jour_du_mois  \\\n",
       "0          s_9707   54             Monday    2021-03            22   \n",
       "1        s_345108   56          Wednesday    2023-02            22   \n",
       "2        s_114715   54           Thursday    2021-11             4   \n",
       "3        s_345108   56          Wednesday    2023-02            22   \n",
       "4          s_9707   54             Monday    2021-03            22   \n",
       "...           ...  ...                ...        ...           ...   \n",
       "679106   s_215697   40             Sunday    2022-05            29   \n",
       "679107   s_186172   40            Tuesday    2022-03            29   \n",
       "679108   s_313173   40           Saturday    2022-12            17   \n",
       "679109   s_166337   40           Thursday    2022-02            17   \n",
       "679110    s_89478   39             Monday    2021-09            13   \n",
       "\n",
       "       tranche_dage Année_CA  \n",
       "0             31-60        1  \n",
       "1             31-60        2  \n",
       "2             31-60        1  \n",
       "3             31-60        2  \n",
       "4             31-60        1  \n",
       "...             ...      ...  \n",
       "679106        31-60        2  \n",
       "679107        31-60        2  \n",
       "679108        31-60        2  \n",
       "679109        31-60        1  \n",
       "679110        31-60        1  \n",
       "\n",
       "[679111 rows x 14 columns]"
      ]
     },
     "execution_count": 16,
     "metadata": {},
     "output_type": "execute_result"
    }
   ],
   "source": [
    "customers_achats"
   ]
  },
  {
   "cell_type": "markdown",
   "id": "a38fa0cf",
   "metadata": {},
   "source": [
    "### Antoine : besoins en analytics"
   ]
  },
  {
   "cell_type": "markdown",
   "id": "4b56d0e7",
   "metadata": {},
   "source": [
    "#### Indicateurs et graphiques autour du chiffre d'affaires"
   ]
  },
  {
   "cell_type": "code",
   "execution_count": 17,
   "id": "9a5f37af",
   "metadata": {},
   "outputs": [
    {
     "data": {
      "image/png": "[encoded data removed]",
      "text/plain": [
       "<Figure size 432x288 with 1 Axes>"
      ]
     },
     "metadata": {
      "needs_background": "light"
     },
     "output_type": "display_data"
    }
   ],
   "source": [
    "CA_Année = customers_achats[['price','Année_CA', 'categ']]\n",
    "CA_Année = round(CA_Année.groupby([\"Année_CA\", 'categ']).sum(),2)\n",
    "CA_Année = CA_Année.unstack()[\"price\"]\n",
    "\n",
    "CA_Année_plot = CA_Année.plot.bar(stacked=True)\n",
    "\n",
    "plt.title(\"CA par année et par categ\")\n",
    "plt.xlabel(\"Année\")\n",
    "plt.ylabel(\"CA en millions\")\n",
    "\n",
    "labels = [round(i/1000000,2) for i in CA_Année.to_numpy().flatten(order='F')]   # Para poner las etiquetas de cantidades\n",
    "\n",
    "for i, patch in enumerate(CA_Année_plot.patches):\n",
    "    x, y = patch.get_xy()\n",
    "    x += patch.get_width() / 2\n",
    "    y += patch.get_height() / 2\n",
    "    CA_Année_plot.annotate(labels[i], (x, y), ha='center', va='center', c='white')"
   ]
  },
  {
   "cell_type": "code",
   "execution_count": 18,
   "id": "297c1670",
   "metadata": {},
   "outputs": [
    {
     "data": {
      "text/html": [
       "<div>\n",
       "<style scoped>\n",
       "    .dataframe tbody tr th:only-of-type {\n",
       "        vertical-align: middle;\n",
       "    }\n",
       "\n",
       "    .dataframe tbody tr th {\n",
       "        vertical-align: top;\n",
       "    }\n",
       "\n",
       "    .dataframe thead th {\n",
       "        text-align: right;\n",
       "    }\n",
       "</style>\n",
       "<table border=\"1\" class=\"dataframe\">\n",
       "  <thead>\n",
       "    <tr style=\"text-align: right;\">\n",
       "      <th>categ</th>\n",
       "      <th>0</th>\n",
       "      <th>1</th>\n",
       "      <th>2</th>\n",
       "      <th>Total</th>\n",
       "    </tr>\n",
       "    <tr>\n",
       "      <th>Année_CA</th>\n",
       "      <th></th>\n",
       "      <th></th>\n",
       "      <th></th>\n",
       "      <th></th>\n",
       "    </tr>\n",
       "  </thead>\n",
       "  <tbody>\n",
       "    <tr>\n",
       "      <th>1</th>\n",
       "      <td>2230465.39</td>\n",
       "      <td>2247509.32</td>\n",
       "      <td>1353924.35</td>\n",
       "      <td>5831899.06</td>\n",
       "    </tr>\n",
       "    <tr>\n",
       "      <th>2</th>\n",
       "      <td>2189265.58</td>\n",
       "      <td>2406213.37</td>\n",
       "      <td>1426350.67</td>\n",
       "      <td>6021829.62</td>\n",
       "    </tr>\n",
       "    <tr>\n",
       "      <th>Total</th>\n",
       "      <td>4419730.97</td>\n",
       "      <td>4653722.69</td>\n",
       "      <td>2780275.02</td>\n",
       "      <td>11853728.68</td>\n",
       "    </tr>\n",
       "  </tbody>\n",
       "</table>\n",
       "</div>"
      ],
      "text/plain": [
       "categ              0           1           2        Total\n",
       "Année_CA                                                 \n",
       "1         2230465.39  2247509.32  1353924.35   5831899.06\n",
       "2         2189265.58  2406213.37  1426350.67   6021829.62\n",
       "Total     4419730.97  4653722.69  2780275.02  11853728.68"
      ]
     },
     "execution_count": 18,
     "metadata": {},
     "output_type": "execute_result"
    }
   ],
   "source": [
    "CA_Année.loc['Total',:]= CA_Année.sum(axis=0)\n",
    "CA_Année.loc[:,'Total'] = CA_Année.sum(axis=1)\n",
    "CA_Année"
   ]
  },
  {
   "cell_type": "code",
   "execution_count": 19,
   "id": "2d0d616b",
   "metadata": {},
   "outputs": [
    {
     "data": {
      "image/png": "[encoded data removed]",
      "text/plain": [
       "<Figure size 432x288 with 1 Axes>"
      ]
     },
     "metadata": {
      "needs_background": "light"
     },
     "output_type": "display_data"
    }
   ],
   "source": [
    "CA_Année_age = customers_achats[['price','Année_CA', 'tranche_dage']]\n",
    "CA_Année_age = round(CA_Année_age.groupby([\"Année_CA\", 'tranche_dage']).sum(),2)\n",
    "CA_Année_age = CA_Année_age.unstack()[\"price\"]\n",
    "\n",
    "CA_Année_age_plot = CA_Année_age.plot.bar(stacked=True)\n",
    "\n",
    "plt.title(\"CA par année et par tranche d'age\")\n",
    "plt.xlabel(\"Année\")\n",
    "plt.ylabel(\"CA en millions\")\n",
    "\n",
    "for i, patch in enumerate(CA_Année_age_plot.patches):\n",
    "    x, y = patch.get_xy()\n",
    "    x += patch.get_width() / 2\n",
    "    y += patch.get_height() / 2\n",
    "    CA_Année_age_plot.annotate(labels[i], (x, y), ha='center', va='center', c='white')"
   ]
  },
  {
   "cell_type": "code",
   "execution_count": 20,
   "id": "d32d3ea4",
   "metadata": {},
   "outputs": [
    {
     "data": {
      "text/plain": [
       "Text(0, 0.5, 'CA')"
      ]
     },
     "execution_count": 20,
     "metadata": {},
     "output_type": "execute_result"
    },
    {
     "data": {
      "image/png": "[encoded data removed]",
      "text/plain": [
       "<Figure size 432x288 with 1 Axes>"
      ]
     },
     "metadata": {
      "needs_background": "light"
     },
     "output_type": "display_data"
    }
   ],
   "source": [
    "CA_mois_categ = customers_achats[['price','mois_année', 'categ']]\n",
    "CA_mois_categ = round(CA_mois_categ.groupby([\"mois_année\", 'categ']).sum(),2)\n",
    "CA_mois_categ = CA_mois_categ.unstack()[\"price\"]\n",
    "\n",
    "CA_mois_categ.plot(kind='bar', stacked=True)\n",
    "plt.title(\"CA par mois et par categorie\")\n",
    "plt.xlabel(\"mois année\")\n",
    "plt.ylabel(\"CA\")"
   ]
  },
  {
   "cell_type": "markdown",
   "id": "5850d9a2",
   "metadata": {},
   "source": [
    "#### Evolution dans le temps et moyenne mobile"
   ]
  },
  {
   "cell_type": "code",
   "execution_count": 72,
   "id": "41099494",
   "metadata": {},
   "outputs": [
    {
     "data": {
      "text/plain": [
       "<AxesSubplot:xlabel='mois_année'>"
      ]
     },
     "execution_count": 72,
     "metadata": {},
     "output_type": "execute_result"
    },
    {
     "data": {
      "image/png": "[encoded data removed]",
      "text/plain": [
       "<Figure size 864x504 with 1 Axes>"
      ]
     },
     "metadata": {
      "needs_background": "light"
     },
     "output_type": "display_data"
    }
   ],
   "source": [
    "CA_mois = customers_achats[[\"price\", \"mois_année\"]]\n",
    "CA_mois = CA_mois.groupby([\"mois_année\"]).sum()\n",
    "\n",
    "CA_mois[\"MM\"] = CA_mois['price'].rolling(window=3).mean()\n",
    "CA_mois = CA_mois.iloc[:-1]\n",
    "CA_mois[\"CA_mois\"] = CA_mois['price']\n",
    "\n",
    "CA_mois[['CA_mois', 'MM']].plot(label='RELIANCE', figsize=(12,7), grid=True)"
   ]
  },
  {
   "cell_type": "markdown",
   "id": "39581ac8",
   "metadata": {},
   "source": [
    "#### Zoom sur les références :"
   ]
  },
  {
   "cell_type": "code",
   "execution_count": 22,
   "id": "d4fa67fd",
   "metadata": {},
   "outputs": [],
   "source": [
    "references_analyse = customers_achats[['id_prod', 'price', 'categ']]\n",
    "\n",
    "effectifs = references_analyse[\"id_prod\"].value_counts()\n",
    "modalites = effectifs.index # l'index de effectifs contient les modalités\n",
    "top_produits_table = pd.DataFrame(modalites, columns = [\"id_prod\"]) # création du tableau à partir des modalités\n",
    "top_produits_table[\"n\"] = effectifs.values\n",
    "top_produits_table[\"f\"] = top_produits_table[\"n\"] / len(top_produits_table) # len(data) renvoie la taille de l'échantillon\n",
    "\n",
    "reference_analyse_tops_flops_temp = references_analyse.groupby(['id_prod']).sum().drop(columns=['categ']).sort_values(by=['price'])\n",
    "reference_analyse_tops_flops = reference_analyse_tops_flops_temp.merge(top_produits_table, on=\"id_prod\")"
   ]
  },
  {
   "cell_type": "code",
   "execution_count": 23,
   "id": "36ba37eb",
   "metadata": {},
   "outputs": [
    {
     "data": {
      "text/html": [
       "<div>\n",
       "<style scoped>\n",
       "    .dataframe tbody tr th:only-of-type {\n",
       "        vertical-align: middle;\n",
       "    }\n",
       "\n",
       "    .dataframe tbody tr th {\n",
       "        vertical-align: top;\n",
       "    }\n",
       "\n",
       "    .dataframe thead th {\n",
       "        text-align: right;\n",
       "    }\n",
       "</style>\n",
       "<table border=\"1\" class=\"dataframe\">\n",
       "  <thead>\n",
       "    <tr style=\"text-align: right;\">\n",
       "      <th></th>\n",
       "      <th>id_prod</th>\n",
       "      <th>price</th>\n",
       "      <th>n</th>\n",
       "      <th>f</th>\n",
       "    </tr>\n",
       "  </thead>\n",
       "  <tbody>\n",
       "    <tr>\n",
       "      <th>3258</th>\n",
       "      <td>1_369</td>\n",
       "      <td>54025.48</td>\n",
       "      <td>2252</td>\n",
       "      <td>0.689740</td>\n",
       "    </tr>\n",
       "    <tr>\n",
       "      <th>3243</th>\n",
       "      <td>1_417</td>\n",
       "      <td>45947.11</td>\n",
       "      <td>2189</td>\n",
       "      <td>0.670444</td>\n",
       "    </tr>\n",
       "    <tr>\n",
       "      <th>3254</th>\n",
       "      <td>1_414</td>\n",
       "      <td>51949.40</td>\n",
       "      <td>2180</td>\n",
       "      <td>0.667688</td>\n",
       "    </tr>\n",
       "    <tr>\n",
       "      <th>3251</th>\n",
       "      <td>1_498</td>\n",
       "      <td>49731.36</td>\n",
       "      <td>2128</td>\n",
       "      <td>0.651761</td>\n",
       "    </tr>\n",
       "    <tr>\n",
       "      <th>3228</th>\n",
       "      <td>1_425</td>\n",
       "      <td>35611.04</td>\n",
       "      <td>2096</td>\n",
       "      <td>0.641960</td>\n",
       "    </tr>\n",
       "    <tr>\n",
       "      <th>...</th>\n",
       "      <td>...</td>\n",
       "      <td>...</td>\n",
       "      <td>...</td>\n",
       "      <td>...</td>\n",
       "    </tr>\n",
       "    <tr>\n",
       "      <th>16</th>\n",
       "      <td>0_549</td>\n",
       "      <td>2.99</td>\n",
       "      <td>1</td>\n",
       "      <td>0.000306</td>\n",
       "    </tr>\n",
       "    <tr>\n",
       "      <th>1</th>\n",
       "      <td>0_1284</td>\n",
       "      <td>1.38</td>\n",
       "      <td>1</td>\n",
       "      <td>0.000306</td>\n",
       "    </tr>\n",
       "    <tr>\n",
       "      <th>456</th>\n",
       "      <td>2_23</td>\n",
       "      <td>115.99</td>\n",
       "      <td>1</td>\n",
       "      <td>0.000306</td>\n",
       "    </tr>\n",
       "    <tr>\n",
       "      <th>355</th>\n",
       "      <td>2_81</td>\n",
       "      <td>86.99</td>\n",
       "      <td>1</td>\n",
       "      <td>0.000306</td>\n",
       "    </tr>\n",
       "    <tr>\n",
       "      <th>0</th>\n",
       "      <td>0_1539</td>\n",
       "      <td>0.99</td>\n",
       "      <td>1</td>\n",
       "      <td>0.000306</td>\n",
       "    </tr>\n",
       "  </tbody>\n",
       "</table>\n",
       "<p>3265 rows × 4 columns</p>\n",
       "</div>"
      ],
      "text/plain": [
       "     id_prod     price     n         f\n",
       "3258   1_369  54025.48  2252  0.689740\n",
       "3243   1_417  45947.11  2189  0.670444\n",
       "3254   1_414  51949.40  2180  0.667688\n",
       "3251   1_498  49731.36  2128  0.651761\n",
       "3228   1_425  35611.04  2096  0.641960\n",
       "...      ...       ...   ...       ...\n",
       "16     0_549      2.99     1  0.000306\n",
       "1     0_1284      1.38     1  0.000306\n",
       "456     2_23    115.99     1  0.000306\n",
       "355     2_81     86.99     1  0.000306\n",
       "0     0_1539      0.99     1  0.000306\n",
       "\n",
       "[3265 rows x 4 columns]"
      ]
     },
     "execution_count": 23,
     "metadata": {},
     "output_type": "execute_result"
    }
   ],
   "source": [
    "top_10_ventes = reference_analyse_tops_flops.sort_values(by='n', ascending=False)\n",
    "top_10_ventes"
   ]
  },
  {
   "cell_type": "code",
   "execution_count": 24,
   "id": "308a0c83",
   "metadata": {},
   "outputs": [
    {
     "data": {
      "text/html": [
       "<div>\n",
       "<style scoped>\n",
       "    .dataframe tbody tr th:only-of-type {\n",
       "        vertical-align: middle;\n",
       "    }\n",
       "\n",
       "    .dataframe tbody tr th {\n",
       "        vertical-align: top;\n",
       "    }\n",
       "\n",
       "    .dataframe thead th {\n",
       "        text-align: right;\n",
       "    }\n",
       "</style>\n",
       "<table border=\"1\" class=\"dataframe\">\n",
       "  <thead>\n",
       "    <tr style=\"text-align: right;\">\n",
       "      <th></th>\n",
       "      <th>id_prod</th>\n",
       "      <th>price</th>\n",
       "      <th>n</th>\n",
       "      <th>f</th>\n",
       "    </tr>\n",
       "  </thead>\n",
       "  <tbody>\n",
       "    <tr>\n",
       "      <th>3264</th>\n",
       "      <td>2_159</td>\n",
       "      <td>94893.50</td>\n",
       "      <td>650</td>\n",
       "      <td>0.199081</td>\n",
       "    </tr>\n",
       "    <tr>\n",
       "      <th>3263</th>\n",
       "      <td>2_135</td>\n",
       "      <td>69334.95</td>\n",
       "      <td>1005</td>\n",
       "      <td>0.307810</td>\n",
       "    </tr>\n",
       "    <tr>\n",
       "      <th>3262</th>\n",
       "      <td>2_112</td>\n",
       "      <td>65407.76</td>\n",
       "      <td>968</td>\n",
       "      <td>0.296478</td>\n",
       "    </tr>\n",
       "    <tr>\n",
       "      <th>3261</th>\n",
       "      <td>2_102</td>\n",
       "      <td>60736.78</td>\n",
       "      <td>1027</td>\n",
       "      <td>0.314548</td>\n",
       "    </tr>\n",
       "    <tr>\n",
       "      <th>3260</th>\n",
       "      <td>2_209</td>\n",
       "      <td>56971.86</td>\n",
       "      <td>814</td>\n",
       "      <td>0.249311</td>\n",
       "    </tr>\n",
       "    <tr>\n",
       "      <th>...</th>\n",
       "      <td>...</td>\n",
       "      <td>...</td>\n",
       "      <td>...</td>\n",
       "      <td>...</td>\n",
       "    </tr>\n",
       "    <tr>\n",
       "      <th>3</th>\n",
       "      <td>0_1601</td>\n",
       "      <td>1.99</td>\n",
       "      <td>1</td>\n",
       "      <td>0.000306</td>\n",
       "    </tr>\n",
       "    <tr>\n",
       "      <th>5</th>\n",
       "      <td>0_541</td>\n",
       "      <td>1.99</td>\n",
       "      <td>1</td>\n",
       "      <td>0.000306</td>\n",
       "    </tr>\n",
       "    <tr>\n",
       "      <th>2</th>\n",
       "      <td>0_1653</td>\n",
       "      <td>1.98</td>\n",
       "      <td>2</td>\n",
       "      <td>0.000613</td>\n",
       "    </tr>\n",
       "    <tr>\n",
       "      <th>1</th>\n",
       "      <td>0_1284</td>\n",
       "      <td>1.38</td>\n",
       "      <td>1</td>\n",
       "      <td>0.000306</td>\n",
       "    </tr>\n",
       "    <tr>\n",
       "      <th>0</th>\n",
       "      <td>0_1539</td>\n",
       "      <td>0.99</td>\n",
       "      <td>1</td>\n",
       "      <td>0.000306</td>\n",
       "    </tr>\n",
       "  </tbody>\n",
       "</table>\n",
       "<p>3265 rows × 4 columns</p>\n",
       "</div>"
      ],
      "text/plain": [
       "     id_prod     price     n         f\n",
       "3264   2_159  94893.50   650  0.199081\n",
       "3263   2_135  69334.95  1005  0.307810\n",
       "3262   2_112  65407.76   968  0.296478\n",
       "3261   2_102  60736.78  1027  0.314548\n",
       "3260   2_209  56971.86   814  0.249311\n",
       "...      ...       ...   ...       ...\n",
       "3     0_1601      1.99     1  0.000306\n",
       "5      0_541      1.99     1  0.000306\n",
       "2     0_1653      1.98     2  0.000613\n",
       "1     0_1284      1.38     1  0.000306\n",
       "0     0_1539      0.99     1  0.000306\n",
       "\n",
       "[3265 rows x 4 columns]"
      ]
     },
     "execution_count": 24,
     "metadata": {},
     "output_type": "execute_result"
    }
   ],
   "source": [
    "top_10_CA = reference_analyse_tops_flops.sort_values(by='price', ascending=False)\n",
    "top_10_CA"
   ]
  },
  {
   "cell_type": "markdown",
   "id": "9028b99f",
   "metadata": {},
   "source": [
    "#### Profils de nos clients"
   ]
  },
  {
   "cell_type": "code",
   "execution_count": 25,
   "id": "384be324",
   "metadata": {},
   "outputs": [
    {
     "data": {
      "text/plain": [
       "Text(0.5, 1.0, 'CA par sex')"
      ]
     },
     "execution_count": 25,
     "metadata": {},
     "output_type": "execute_result"
    },
    {
     "data": {
      "image/png": "[encoded data removed]",
      "text/plain": [
       "<Figure size 432x288 with 1 Axes>"
      ]
     },
     "metadata": {
      "needs_background": "light"
     },
     "output_type": "display_data"
    }
   ],
   "source": [
    "CA_sex = customers_achats[['price','sex']]\n",
    "CA_sex = round(CA_sex.groupby(['sex']).sum(),2)\n",
    "ax_sex = CA_sex.plot.bar(y='price', rot=0)\n",
    "plt.title(\"CA par sex\")"
   ]
  },
  {
   "cell_type": "code",
   "execution_count": 26,
   "id": "4a10c795",
   "metadata": {},
   "outputs": [
    {
     "data": {
      "image/png": "[encoded data removed]",
      "text/plain": [
       "<Figure size 432x288 with 1 Axes>"
      ]
     },
     "metadata": {
      "needs_background": "light"
     },
     "output_type": "display_data"
    }
   ],
   "source": [
    "Lorenz_CA = customers_achats[['price','client_id']]\n",
    "Lorenz_CA = round(Lorenz_CA.groupby([\"client_id\"]).sum(),2)\n",
    "\n",
    "Lorenz_CA = Lorenz_CA[\"price\"]\n",
    "n = len(Lorenz_CA)\n",
    "lorenz = np.cumsum(np.sort(Lorenz_CA)) / Lorenz_CA.sum()\n",
    "lorenz = np.append([0],lorenz) \n",
    "\n",
    "xaxis = np.linspace(0-1/n,1+1/n,len(lorenz)) \n",
    "plt.plot(xaxis,lorenz,drawstyle='steps-post')\n",
    "plt.plot([0,1], [0,1]) \n",
    "plt.show()"
   ]
  },
  {
   "cell_type": "code",
   "execution_count": 27,
   "id": "a29e0175",
   "metadata": {},
   "outputs": [
    {
     "data": {
      "text/plain": [
       "0.44638654137401457"
      ]
     },
     "execution_count": 27,
     "metadata": {},
     "output_type": "execute_result"
    }
   ],
   "source": [
    "AUC = (lorenz.sum() -lorenz[-1]/2 -lorenz[0]/2)/n\n",
    "S = 0.5 - AUC \n",
    "gini = 2*S\n",
    "gini"
   ]
  },
  {
   "cell_type": "code",
   "execution_count": 28,
   "id": "c8723d13",
   "metadata": {},
   "outputs": [
    {
     "data": {
      "text/html": [
       "<div>\n",
       "<style scoped>\n",
       "    .dataframe tbody tr th:only-of-type {\n",
       "        vertical-align: middle;\n",
       "    }\n",
       "\n",
       "    .dataframe tbody tr th {\n",
       "        vertical-align: top;\n",
       "    }\n",
       "\n",
       "    .dataframe thead th {\n",
       "        text-align: right;\n",
       "    }\n",
       "</style>\n",
       "<table border=\"1\" class=\"dataframe\">\n",
       "  <thead>\n",
       "    <tr style=\"text-align: right;\">\n",
       "      <th></th>\n",
       "      <th>price</th>\n",
       "    </tr>\n",
       "    <tr>\n",
       "      <th>client_id</th>\n",
       "      <th></th>\n",
       "    </tr>\n",
       "  </thead>\n",
       "  <tbody>\n",
       "    <tr>\n",
       "      <th>c_8351</th>\n",
       "      <td>6.31</td>\n",
       "    </tr>\n",
       "    <tr>\n",
       "      <th>c_8140</th>\n",
       "      <td>8.30</td>\n",
       "    </tr>\n",
       "    <tr>\n",
       "      <th>c_8114</th>\n",
       "      <td>9.98</td>\n",
       "    </tr>\n",
       "    <tr>\n",
       "      <th>c_240</th>\n",
       "      <td>11.06</td>\n",
       "    </tr>\n",
       "    <tr>\n",
       "      <th>c_4648</th>\n",
       "      <td>11.20</td>\n",
       "    </tr>\n",
       "    <tr>\n",
       "      <th>...</th>\n",
       "      <td>...</td>\n",
       "    </tr>\n",
       "    <tr>\n",
       "      <th>c_3263</th>\n",
       "      <td>5276.87</td>\n",
       "    </tr>\n",
       "    <tr>\n",
       "      <th>c_3454</th>\n",
       "      <td>113637.93</td>\n",
       "    </tr>\n",
       "    <tr>\n",
       "      <th>c_6714</th>\n",
       "      <td>153598.92</td>\n",
       "    </tr>\n",
       "    <tr>\n",
       "      <th>c_4958</th>\n",
       "      <td>289760.34</td>\n",
       "    </tr>\n",
       "    <tr>\n",
       "      <th>c_1609</th>\n",
       "      <td>324033.35</td>\n",
       "    </tr>\n",
       "  </tbody>\n",
       "</table>\n",
       "<p>8600 rows × 1 columns</p>\n",
       "</div>"
      ],
      "text/plain": [
       "               price\n",
       "client_id           \n",
       "c_8351          6.31\n",
       "c_8140          8.30\n",
       "c_8114          9.98\n",
       "c_240          11.06\n",
       "c_4648         11.20\n",
       "...              ...\n",
       "c_3263       5276.87\n",
       "c_3454     113637.93\n",
       "c_6714     153598.92\n",
       "c_4958     289760.34\n",
       "c_1609     324033.35\n",
       "\n",
       "[8600 rows x 1 columns]"
      ]
     },
     "execution_count": 28,
     "metadata": {},
     "output_type": "execute_result"
    }
   ],
   "source": [
    "top_clients = customers_achats[['price','client_id']]\n",
    "top_clients = Lorenz_CA.groupby([\"client_id\"]).sum().to_frame()\n",
    "\n",
    "top_clients.sort_values(by='price')\n",
    "#indice de gini"
   ]
  },
  {
   "cell_type": "markdown",
   "id": "7d0b97d8",
   "metadata": {},
   "source": [
    "### Julie : Comprendre le comportement de nos clients en ligne avec l'analyse bivariée"
   ]
  },
  {
   "cell_type": "markdown",
   "id": "d7c34da4",
   "metadata": {},
   "source": [
    "#### Le genre et les categories "
   ]
  },
  {
   "cell_type": "code",
   "execution_count": 29,
   "id": "7e48c2c2",
   "metadata": {},
   "outputs": [
    {
     "data": {
      "text/html": [
       "<div>\n",
       "<style scoped>\n",
       "    .dataframe tbody tr th:only-of-type {\n",
       "        vertical-align: middle;\n",
       "    }\n",
       "\n",
       "    .dataframe tbody tr th {\n",
       "        vertical-align: top;\n",
       "    }\n",
       "\n",
       "    .dataframe thead th {\n",
       "        text-align: right;\n",
       "    }\n",
       "</style>\n",
       "<table border=\"1\" class=\"dataframe\">\n",
       "  <thead>\n",
       "    <tr style=\"text-align: right;\">\n",
       "      <th>categ</th>\n",
       "      <th>0</th>\n",
       "      <th>1</th>\n",
       "      <th>2</th>\n",
       "      <th>Total</th>\n",
       "    </tr>\n",
       "    <tr>\n",
       "      <th>sex</th>\n",
       "      <th></th>\n",
       "      <th></th>\n",
       "      <th></th>\n",
       "      <th></th>\n",
       "    </tr>\n",
       "  </thead>\n",
       "  <tbody>\n",
       "    <tr>\n",
       "      <th>f</th>\n",
       "      <td>206103</td>\n",
       "      <td>114899</td>\n",
       "      <td>17283</td>\n",
       "      <td>338285</td>\n",
       "    </tr>\n",
       "    <tr>\n",
       "      <th>m</th>\n",
       "      <td>209356</td>\n",
       "      <td>112270</td>\n",
       "      <td>19200</td>\n",
       "      <td>340826</td>\n",
       "    </tr>\n",
       "    <tr>\n",
       "      <th>Total</th>\n",
       "      <td>415459</td>\n",
       "      <td>227169</td>\n",
       "      <td>36483</td>\n",
       "      <td>679111</td>\n",
       "    </tr>\n",
       "  </tbody>\n",
       "</table>\n",
       "</div>"
      ],
      "text/plain": [
       "categ       0       1      2   Total\n",
       "sex                                 \n",
       "f      206103  114899  17283  338285\n",
       "m      209356  112270  19200  340826\n",
       "Total  415459  227169  36483  679111"
      ]
     },
     "execution_count": 29,
     "metadata": {},
     "output_type": "execute_result"
    }
   ],
   "source": [
    "genre_categ = customers_achats[['sex', 'categ']]\n",
    "\n",
    "X = \"sex\"\n",
    "Y = \"categ\"\n",
    "\n",
    "cont = customers_achats[[X,Y]].pivot_table(index=X,columns=Y,aggfunc=len,margins=True,margins_name=\"Total\")\n",
    "cont"
   ]
  },
  {
   "cell_type": "code",
   "execution_count": 30,
   "id": "a786f64b",
   "metadata": {},
   "outputs": [
    {
     "data": {
      "text/plain": [
       "147.11906816131497"
      ]
     },
     "execution_count": 30,
     "metadata": {},
     "output_type": "execute_result"
    }
   ],
   "source": [
    "st_chi2, st_p, st_dof, st_exp = st.chi2_contingency(cont)\n",
    "st_chi2"
   ]
  },
  {
   "cell_type": "code",
   "execution_count": 31,
   "id": "8a7c58ce",
   "metadata": {},
   "outputs": [
    {
     "data": {
      "text/plain": [
       "3.144522803251581e-29"
      ]
     },
     "execution_count": 31,
     "metadata": {},
     "output_type": "execute_result"
    }
   ],
   "source": [
    "st_p"
   ]
  },
  {
   "cell_type": "markdown",
   "id": "47e5ec12",
   "metadata": {},
   "source": [
    "< 0.05 we can reject the null hypothesis and conclude there is a relationship"
   ]
  },
  {
   "cell_type": "markdown",
   "id": "e6d2da55",
   "metadata": {},
   "source": [
    "### Estce que le sex a une influence sur la quantité d'argent depensé par les clients ?"
   ]
  },
  {
   "cell_type": "markdown",
   "id": "46de6335",
   "metadata": {},
   "source": [
    "#### test de normalité et d’égalité des variances "
   ]
  },
  {
   "cell_type": "code",
   "execution_count": 32,
   "id": "9824c1c3",
   "metadata": {},
   "outputs": [],
   "source": [
    "X = \"sex\" # qualitative\n",
    "Y = \"price\" # quantitative\n",
    "\n",
    "sex_depense = customers_achats.groupby('client_id').agg({\n",
    "    'price': 'sum',\n",
    "    'sex': 'first' })"
   ]
  },
  {
   "cell_type": "code",
   "execution_count": 33,
   "id": "f203eca3",
   "metadata": {},
   "outputs": [
    {
     "data": {
      "image/png": "[encoded data removed]",
      "text/plain": [
       "<Figure size 432x288 with 1 Axes>"
      ]
     },
     "metadata": {
      "needs_background": "light"
     },
     "output_type": "display_data"
    }
   ],
   "source": [
    "modalites = customers_achats[X].unique()\n",
    "groupes = []\n",
    "for m in modalites:\n",
    "    groupes.append(sex_depense[sex_depense[X]==m][Y])\n",
    "\n",
    "# Propriétés graphiques (pas très importantes)    \n",
    "medianprops = {'color':\"black\"}\n",
    "meanprops = {'marker':'o', 'markeredgecolor':'black',\n",
    "            'markerfacecolor':'firebrick'}\n",
    "    \n",
    "plt.boxplot(groupes, labels=modalites, showfliers=False, medianprops=medianprops, \n",
    "            vert=False, patch_artist=True, showmeans=True, meanprops=meanprops)\n",
    "plt.show()"
   ]
  },
  {
   "cell_type": "code",
   "execution_count": 34,
   "id": "a04233d2",
   "metadata": {},
   "outputs": [],
   "source": [
    "df_f = sex_depense.loc[sex_depense[\"sex\"] == 'f']\n",
    "\n",
    "df_m = sex_depense.loc[sex_depense[\"sex\"] == 'm']\n"
   ]
  },
  {
   "cell_type": "code",
   "execution_count": 35,
   "id": "442e3806",
   "metadata": {},
   "outputs": [
    {
     "data": {
      "image/png": "[encoded data removed]",
      "text/plain": [
       "<Figure size 432x288 with 1 Axes>"
      ]
     },
     "metadata": {
      "needs_background": "light"
     },
     "output_type": "display_data"
    }
   ],
   "source": [
    "df_f[df_f.price < 10000][\"price\"].hist(density=True,bins=20)\n",
    "plt.show()"
   ]
  },
  {
   "cell_type": "code",
   "execution_count": 36,
   "id": "7389a9a4",
   "metadata": {},
   "outputs": [
    {
     "data": {
      "image/png": "[encoded data removed]",
      "text/plain": [
       "<Figure size 432x288 with 1 Axes>"
      ]
     },
     "metadata": {
      "needs_background": "light"
     },
     "output_type": "display_data"
    }
   ],
   "source": [
    "df_m[df_m.price < 10000][\"price\"].hist(density=True,bins=20)\n",
    "plt.show()"
   ]
  },
  {
   "cell_type": "code",
   "execution_count": 37,
   "id": "e25ea063",
   "metadata": {},
   "outputs": [],
   "source": [
    "from scipy.stats import shapiro"
   ]
  },
  {
   "cell_type": "markdown",
   "id": "367c8a40",
   "metadata": {},
   "source": [
    "#### test de normalité"
   ]
  },
  {
   "cell_type": "code",
   "execution_count": 38,
   "id": "19e5809b",
   "metadata": {},
   "outputs": [
    {
     "name": "stdout",
     "output_type": "stream",
     "text": [
      "stat=0.047, p=0.000\n",
      "Probably not Gaussian\n"
     ]
    }
   ],
   "source": [
    "stat, p = shapiro(df_m.price)\n",
    "print('stat=%.3f, p=%.3f' % (stat, p))\n",
    "if p > 0.05:\n",
    "\tprint('Probably Gaussian')\n",
    "else:\n",
    "\tprint('Probably not Gaussian')"
   ]
  },
  {
   "cell_type": "code",
   "execution_count": 39,
   "id": "7883c7a4",
   "metadata": {
    "scrolled": true
   },
   "outputs": [
    {
     "name": "stdout",
     "output_type": "stream",
     "text": [
      "stat=0.175, p=0.000\n",
      "Probably not Gaussian\n"
     ]
    }
   ],
   "source": [
    "stat, p = shapiro(df_f.price)\n",
    "print('stat=%.3f, p=%.3f' % (stat, p))\n",
    "if p > 0.05:\n",
    "\tprint('Probably Gaussian')\n",
    "else:\n",
    "\tprint('Probably not Gaussian')"
   ]
  },
  {
   "cell_type": "markdown",
   "id": "2026b903",
   "metadata": {},
   "source": [
    "#### test d’égalité des variances"
   ]
  },
  {
   "cell_type": "code",
   "execution_count": 40,
   "id": "65c91aef",
   "metadata": {},
   "outputs": [],
   "source": [
    "from scipy.stats import bartlett"
   ]
  },
  {
   "cell_type": "code",
   "execution_count": 41,
   "id": "e51423ed",
   "metadata": {},
   "outputs": [
    {
     "name": "stdout",
     "output_type": "stream",
     "text": [
      "stat=4136.857, p=0.000\n",
      "Varince non-égale \n"
     ]
    }
   ],
   "source": [
    "stat, p = bartlett(df_f.price, df_m.price)\n",
    "print('stat=%.3f, p=%.3f' % (stat, p))\n",
    "if p > 0.05:\n",
    "\tprint('Variance égale')\n",
    "else:\n",
    "\tprint('Varince non-égale ')"
   ]
  },
  {
   "cell_type": "markdown",
   "id": "40294778",
   "metadata": {},
   "source": [
    "Le test de normalité et le test d'égalité de variance ont donné un résultat negatif, un test de student ne serais donc pas pertinent pour cette ensemble des données"
   ]
  },
  {
   "cell_type": "markdown",
   "id": "5d0f79ba",
   "metadata": {},
   "source": [
    "L'ANOVA ne peut pas etre realisé parce que les données ne suivent pas une distribution normale"
   ]
  },
  {
   "cell_type": "markdown",
   "id": "b8ae5ea6",
   "metadata": {},
   "source": [
    "#### Test non-parametrique de Man Whitneyu"
   ]
  },
  {
   "cell_type": "code",
   "execution_count": 73,
   "id": "57aafe62",
   "metadata": {},
   "outputs": [
    {
     "name": "stdout",
     "output_type": "stream",
     "text": [
      "stat=9232163.500, p=0.978\n",
      "Null hypothesis, significantly equal\n"
     ]
    }
   ],
   "source": [
    "import scipy.stats as stats\n",
    "\n",
    "stat, p = stats.mannwhitneyu(x=df_m['price'], y=df_f['price'])\n",
    "print('stat=%.3f, p=%.3f' % (stat, p))\n",
    "if p > 0.05:\n",
    "\tprint('Null hypothesis, significantly equal')\n",
    "else:\n",
    "\tprint('Rejet null hypothesis, significantly different')"
   ]
  },
  {
   "cell_type": "markdown",
   "id": "cf3a329b",
   "metadata": {},
   "source": [
    "### Age des clients et le montant total des achats par client "
   ]
  },
  {
   "cell_type": "code",
   "execution_count": 43,
   "id": "5dbd7f9e",
   "metadata": {},
   "outputs": [
    {
     "data": {
      "image/png": "[encoded data removed]",
      "text/plain": [
       "<Figure size 432x288 with 1 Axes>"
      ]
     },
     "metadata": {
      "needs_background": "light"
     },
     "output_type": "display_data"
    }
   ],
   "source": [
    "X = \"tranche_dage\" # qualitative\n",
    "Y = \"price\" # quantitative\n",
    "\n",
    "age_CA = customers_achats.groupby('client_id').agg({\n",
    "    'price': 'sum',\n",
    "    'tranche_dage': 'first'\n",
    "})\n",
    "\n",
    "modalites = customers_achats[X].unique()\n",
    "groupes = []\n",
    "for m in modalites:\n",
    "    groupes.append(age_CA[age_CA[X]==m][Y])\n",
    "\n",
    "# Propriétés graphiques (pas très importantes)    \n",
    "medianprops = {'color':\"black\"}\n",
    "meanprops = {'marker':'o', 'markeredgecolor':'black',\n",
    "            'markerfacecolor':'firebrick'}\n",
    "    \n",
    "plt.boxplot(groupes, labels=modalites, showfliers=False, medianprops=medianprops, \n",
    "            vert=False, patch_artist=True, showmeans=True, meanprops=meanprops)\n",
    "plt.show()"
   ]
  },
  {
   "cell_type": "markdown",
   "id": "5471c756",
   "metadata": {},
   "source": [
    "### Age des clients et la frequence d'achat "
   ]
  },
  {
   "cell_type": "code",
   "execution_count": 44,
   "id": "624adb56",
   "metadata": {},
   "outputs": [
    {
     "data": {
      "image/png": "[encoded data removed]",
      "text/plain": [
       "<Figure size 432x288 with 1 Axes>"
      ]
     },
     "metadata": {
      "needs_background": "light"
     },
     "output_type": "display_data"
    }
   ],
   "source": [
    "X = \"tranche_dage\" # qualitative\n",
    "Y = \"session_id\" # quantitative\n",
    "\n",
    "age_freq = customers_achats.groupby('client_id').agg({\n",
    "    'session_id': 'nunique',\n",
    "    'tranche_dage': 'first'\n",
    "})\n",
    "\n",
    "modalites = customers_achats[X].unique()\n",
    "groupes = []\n",
    "for m in modalites:\n",
    "    groupes.append(age_freq[age_freq[X]==m][Y])\n",
    "\n",
    "# Propriétés graphiques (pas très importantes)    \n",
    "medianprops = {'color':\"black\"}\n",
    "meanprops = {'marker':'o', 'markeredgecolor':'black',\n",
    "            'markerfacecolor':'firebrick'}\n",
    "    \n",
    "plt.boxplot(groupes, labels=modalites, showfliers=False, medianprops=medianprops, \n",
    "            vert=False, patch_artist=True, showmeans=True, meanprops=meanprops)\n",
    "plt.show()"
   ]
  },
  {
   "cell_type": "markdown",
   "id": "cc49b905",
   "metadata": {},
   "source": [
    "### Age des clients et la taille du panier moyen"
   ]
  },
  {
   "cell_type": "code",
   "execution_count": 45,
   "id": "fcb79b81",
   "metadata": {},
   "outputs": [
    {
     "data": {
      "image/png": "[encoded data removed]",
      "text/plain": [
       "<Figure size 432x288 with 1 Axes>"
      ]
     },
     "metadata": {
      "needs_background": "light"
     },
     "output_type": "display_data"
    }
   ],
   "source": [
    "X = \"tranche_dage\" # qualitative\n",
    "Y = \"price\" # quantitative\n",
    "\n",
    "age_taille = customers_achats.groupby('session_id').agg({\n",
    "    'price': 'mean',\n",
    "    'tranche_dage': 'first'\n",
    "})\n",
    "\n",
    "modalites = customers_achats[X].unique()\n",
    "groupes = []\n",
    "for m in modalites:\n",
    "    groupes.append(age_taille[age_taille[X]==m][Y])\n",
    "\n",
    "# Propriétés graphiques (pas très importantes)    \n",
    "medianprops = {'color':\"black\"}\n",
    "meanprops = {'marker':'o', 'markeredgecolor':'black',\n",
    "            'markerfacecolor':'firebrick'}\n",
    "    \n",
    "plt.boxplot(groupes, labels=modalites, showfliers=False, medianprops=medianprops, \n",
    "            vert=False, patch_artist=True, showmeans=True, meanprops=meanprops)\n",
    "plt.show()"
   ]
  },
  {
   "cell_type": "markdown",
   "id": "23ece4d2",
   "metadata": {},
   "source": [
    "### Age des clients et la categorie des livres achetés"
   ]
  },
  {
   "cell_type": "code",
   "execution_count": 46,
   "id": "54b0a86d",
   "metadata": {},
   "outputs": [
    {
     "data": {
      "image/png": "[encoded data removed]",
      "text/plain": [
       "<Figure size 432x288 with 2 Axes>"
      ]
     },
     "metadata": {
      "needs_background": "light"
     },
     "output_type": "display_data"
    }
   ],
   "source": [
    "X2 = \"tranche_dage\"\n",
    "Y2 = \"categ\"\n",
    "\n",
    "cont = customers_achats[[X2,Y2]].pivot_table(index=X2,columns=Y2,aggfunc=len,margins=True,margins_name=\"Total\")\n",
    "\n",
    "import seaborn as sns\n",
    "\n",
    "tx = cont.loc[:,[\"Total\"]]\n",
    "ty = cont.loc[[\"Total\"],:]\n",
    "n = len(customers_achats)\n",
    "indep = tx.dot(ty) / n\n",
    "\n",
    "c = cont.fillna(0) # On remplace les valeurs nulles par 0\n",
    "measure = (c-indep)**2/indep\n",
    "xi_n = measure.sum().sum()\n",
    "table = measure/xi_n\n",
    "sns.heatmap(table.iloc[:-1,:-1],annot=c.iloc[:-1,:-1])\n",
    "plt.show()\n",
    "\n",
    "st_chi2, st_p, st_dof, st_exp = st.chi2_contingency(cont)"
   ]
  },
  {
   "cell_type": "code",
   "execution_count": 47,
   "id": "fa2d7699",
   "metadata": {
    "scrolled": true
   },
   "outputs": [
    {
     "data": {
      "text/html": [
       "<div>\n",
       "<style scoped>\n",
       "    .dataframe tbody tr th:only-of-type {\n",
       "        vertical-align: middle;\n",
       "    }\n",
       "\n",
       "    .dataframe tbody tr th {\n",
       "        vertical-align: top;\n",
       "    }\n",
       "\n",
       "    .dataframe thead th {\n",
       "        text-align: right;\n",
       "    }\n",
       "</style>\n",
       "<table border=\"1\" class=\"dataframe\">\n",
       "  <thead>\n",
       "    <tr style=\"text-align: right;\">\n",
       "      <th>categ</th>\n",
       "      <th>0</th>\n",
       "      <th>1</th>\n",
       "      <th>2</th>\n",
       "      <th>Total</th>\n",
       "    </tr>\n",
       "    <tr>\n",
       "      <th>tranche_dage</th>\n",
       "      <th></th>\n",
       "      <th></th>\n",
       "      <th></th>\n",
       "      <th></th>\n",
       "    </tr>\n",
       "  </thead>\n",
       "  <tbody>\n",
       "    <tr>\n",
       "      <th>18-30</th>\n",
       "      <td>22263</td>\n",
       "      <td>31287</td>\n",
       "      <td>33005</td>\n",
       "      <td>86555</td>\n",
       "    </tr>\n",
       "    <tr>\n",
       "      <th>31-60</th>\n",
       "      <td>356899</td>\n",
       "      <td>149629</td>\n",
       "      <td>2703</td>\n",
       "      <td>509231</td>\n",
       "    </tr>\n",
       "    <tr>\n",
       "      <th>60 ou plus</th>\n",
       "      <td>36297</td>\n",
       "      <td>46253</td>\n",
       "      <td>775</td>\n",
       "      <td>83325</td>\n",
       "    </tr>\n",
       "    <tr>\n",
       "      <th>Total</th>\n",
       "      <td>415459</td>\n",
       "      <td>227169</td>\n",
       "      <td>36483</td>\n",
       "      <td>679111</td>\n",
       "    </tr>\n",
       "  </tbody>\n",
       "</table>\n",
       "</div>"
      ],
      "text/plain": [
       "categ              0       1      2   Total\n",
       "tranche_dage                               \n",
       "18-30          22263   31287  33005   86555\n",
       "31-60         356899  149629   2703  509231\n",
       "60 ou plus     36297   46253    775   83325\n",
       "Total         415459  227169  36483  679111"
      ]
     },
     "execution_count": 47,
     "metadata": {},
     "output_type": "execute_result"
    }
   ],
   "source": [
    "cont"
   ]
  },
  {
   "cell_type": "code",
   "execution_count": 82,
   "id": "c35544e1",
   "metadata": {},
   "outputs": [
    {
     "name": "stdout",
     "output_type": "stream",
     "text": [
      "stat=241635.059, p=0.000\n",
      "< 0.05 we can reject the null hypothesis and conclude there is a relationship\n"
     ]
    }
   ],
   "source": [
    "print('stat=%.3f, p=%.3f' % (st_chi2, st_p))\n",
    "if p > 0.05:\n",
    "\tprint('< 0.05 we can reject the null hypothesis and conclude there is a relationship')\n",
    "else:\n",
    "\tprint('Null hypothesis, pas de relation')"
   ]
  },
  {
   "cell_type": "code",
   "execution_count": 48,
   "id": "7db79647",
   "metadata": {},
   "outputs": [
    {
     "data": {
      "text/plain": [
       "241635.0591891023"
      ]
     },
     "execution_count": 48,
     "metadata": {},
     "output_type": "execute_result"
    }
   ],
   "source": [
    "st_chi2"
   ]
  },
  {
   "cell_type": "code",
   "execution_count": 49,
   "id": "6ae789d3",
   "metadata": {},
   "outputs": [
    {
     "data": {
      "text/plain": [
       "0.0"
      ]
     },
     "execution_count": 49,
     "metadata": {},
     "output_type": "execute_result"
    }
   ],
   "source": [
    "st_p"
   ]
  },
  {
   "cell_type": "markdown",
   "id": "3e633542",
   "metadata": {},
   "source": [
    "< 0.05 we can reject the null hypothesis and conclude there is a relationship"
   ]
  },
  {
   "cell_type": "markdown",
   "id": "71d30397",
   "metadata": {},
   "source": [
    "### Prix des livres et chifre d'affaire par produit"
   ]
  },
  {
   "cell_type": "code",
   "execution_count": 50,
   "id": "4c84c577",
   "metadata": {},
   "outputs": [
    {
     "data": {
      "text/html": [
       "<div>\n",
       "<style scoped>\n",
       "    .dataframe tbody tr th:only-of-type {\n",
       "        vertical-align: middle;\n",
       "    }\n",
       "\n",
       "    .dataframe tbody tr th {\n",
       "        vertical-align: top;\n",
       "    }\n",
       "\n",
       "    .dataframe thead th {\n",
       "        text-align: right;\n",
       "    }\n",
       "</style>\n",
       "<table border=\"1\" class=\"dataframe\">\n",
       "  <thead>\n",
       "    <tr style=\"text-align: right;\">\n",
       "      <th></th>\n",
       "      <th>client_id</th>\n",
       "      <th>sex</th>\n",
       "      <th>birth</th>\n",
       "      <th>id_prod</th>\n",
       "      <th>price</th>\n",
       "      <th>categ</th>\n",
       "      <th>date</th>\n",
       "      <th>session_id</th>\n",
       "      <th>age</th>\n",
       "      <th>jour_de_la_semaine</th>\n",
       "      <th>mois_année</th>\n",
       "      <th>Jour_du_mois</th>\n",
       "      <th>tranche_dage</th>\n",
       "      <th>Année_CA</th>\n",
       "    </tr>\n",
       "  </thead>\n",
       "  <tbody>\n",
       "    <tr>\n",
       "      <th>0</th>\n",
       "      <td>c_4410</td>\n",
       "      <td>f</td>\n",
       "      <td>1967</td>\n",
       "      <td>1_385</td>\n",
       "      <td>25.99</td>\n",
       "      <td>1</td>\n",
       "      <td>2021-03-22 01:30:00</td>\n",
       "      <td>s_9707</td>\n",
       "      <td>54</td>\n",
       "      <td>Monday</td>\n",
       "      <td>2021-03</td>\n",
       "      <td>22</td>\n",
       "      <td>31-60</td>\n",
       "      <td>1</td>\n",
       "    </tr>\n",
       "  </tbody>\n",
       "</table>\n",
       "</div>"
      ],
      "text/plain": [
       "  client_id sex  birth id_prod  price  categ                date session_id  \\\n",
       "0    c_4410   f   1967   1_385  25.99      1 2021-03-22 01:30:00     s_9707   \n",
       "\n",
       "   age jour_de_la_semaine mois_année  Jour_du_mois tranche_dage Année_CA  \n",
       "0   54             Monday    2021-03            22        31-60        1  "
      ]
     },
     "execution_count": 50,
     "metadata": {},
     "output_type": "execute_result"
    }
   ],
   "source": [
    "customers_achats.head(1)"
   ]
  },
  {
   "cell_type": "code",
   "execution_count": 51,
   "id": "87675e81",
   "metadata": {},
   "outputs": [],
   "source": [
    "id_prod_CA_temp = customers_achats.groupby('id_prod').sum().reset_index()\n",
    "\n",
    "id_prod_CA = id_prod_CA_temp[['id_prod', 'price']]\n",
    "\n",
    "id_prod_prix = customers_achats[['id_prod', 'price']]\n",
    "\n",
    "id_prod_prix_CA = id_prod_prix.merge(id_prod_CA, on=\"id_prod\")\n",
    "\n",
    "id_prod_prix_CA = id_prod_prix_CA.drop_duplicates()\n",
    "id_prod_prix_CA = id_prod_prix_CA.drop(columns=['id_prod'])\n",
    "\n",
    "id_prod_prix_CA = id_prod_prix_CA.rename(columns={\"price_x\": \"price_prod\", \"price_y\": \"CA_prod\"})\n"
   ]
  },
  {
   "cell_type": "code",
   "execution_count": 52,
   "id": "7e1368af",
   "metadata": {},
   "outputs": [
    {
     "data": {
      "text/html": [
       "<div>\n",
       "<style scoped>\n",
       "    .dataframe tbody tr th:only-of-type {\n",
       "        vertical-align: middle;\n",
       "    }\n",
       "\n",
       "    .dataframe tbody tr th {\n",
       "        vertical-align: top;\n",
       "    }\n",
       "\n",
       "    .dataframe thead th {\n",
       "        text-align: right;\n",
       "    }\n",
       "</style>\n",
       "<table border=\"1\" class=\"dataframe\">\n",
       "  <thead>\n",
       "    <tr style=\"text-align: right;\">\n",
       "      <th></th>\n",
       "      <th>price_prod</th>\n",
       "      <th>CA_prod</th>\n",
       "    </tr>\n",
       "  </thead>\n",
       "  <tbody>\n",
       "    <tr>\n",
       "      <th>0</th>\n",
       "      <td>25.99</td>\n",
       "      <td>46730.02</td>\n",
       "    </tr>\n",
       "    <tr>\n",
       "      <th>1798</th>\n",
       "      <td>4.71</td>\n",
       "      <td>2877.81</td>\n",
       "    </tr>\n",
       "    <tr>\n",
       "      <th>2409</th>\n",
       "      <td>19.99</td>\n",
       "      <td>10894.55</td>\n",
       "    </tr>\n",
       "    <tr>\n",
       "      <th>2954</th>\n",
       "      <td>12.99</td>\n",
       "      <td>17653.41</td>\n",
       "    </tr>\n",
       "    <tr>\n",
       "      <th>4313</th>\n",
       "      <td>11.21</td>\n",
       "      <td>4013.18</td>\n",
       "    </tr>\n",
       "    <tr>\n",
       "      <th>...</th>\n",
       "      <td>...</td>\n",
       "      <td>...</td>\n",
       "    </tr>\n",
       "    <tr>\n",
       "      <th>679088</th>\n",
       "      <td>42.99</td>\n",
       "      <td>171.96</td>\n",
       "    </tr>\n",
       "    <tr>\n",
       "      <th>679092</th>\n",
       "      <td>182.30</td>\n",
       "      <td>1093.80</td>\n",
       "    </tr>\n",
       "    <tr>\n",
       "      <th>679098</th>\n",
       "      <td>84.99</td>\n",
       "      <td>594.93</td>\n",
       "    </tr>\n",
       "    <tr>\n",
       "      <th>679105</th>\n",
       "      <td>2.99</td>\n",
       "      <td>2.99</td>\n",
       "    </tr>\n",
       "    <tr>\n",
       "      <th>679106</th>\n",
       "      <td>2.14</td>\n",
       "      <td>10.70</td>\n",
       "    </tr>\n",
       "  </tbody>\n",
       "</table>\n",
       "<p>3265 rows × 2 columns</p>\n",
       "</div>"
      ],
      "text/plain": [
       "        price_prod   CA_prod\n",
       "0            25.99  46730.02\n",
       "1798          4.71   2877.81\n",
       "2409         19.99  10894.55\n",
       "2954         12.99  17653.41\n",
       "4313         11.21   4013.18\n",
       "...            ...       ...\n",
       "679088       42.99    171.96\n",
       "679092      182.30   1093.80\n",
       "679098       84.99    594.93\n",
       "679105        2.99      2.99\n",
       "679106        2.14     10.70\n",
       "\n",
       "[3265 rows x 2 columns]"
      ]
     },
     "execution_count": 52,
     "metadata": {},
     "output_type": "execute_result"
    }
   ],
   "source": [
    "id_prod_prix_CA"
   ]
  },
  {
   "cell_type": "code",
   "execution_count": 53,
   "id": "05df66c9",
   "metadata": {},
   "outputs": [
    {
     "data": {
      "image/png": "[encoded data removed]",
      "text/plain": [
       "<Figure size 432x288 with 1 Axes>"
      ]
     },
     "metadata": {
      "needs_background": "light"
     },
     "output_type": "display_data"
    }
   ],
   "source": [
    "plt.plot(id_prod_prix_CA['price_prod'],id_prod_prix_CA['CA_prod'], \"o\")\n",
    "plt.xlabel(\"price_prod\")\n",
    "plt.ylabel(\"CA_prod\")\n",
    "plt.show()"
   ]
  },
  {
   "cell_type": "code",
   "execution_count": 54,
   "id": "c0dce5e9",
   "metadata": {},
   "outputs": [
    {
     "name": "stdout",
     "output_type": "stream",
     "text": [
      "0.24876748479644883\n",
      "54244.36547668581\n"
     ]
    }
   ],
   "source": [
    "print(st.pearsonr(id_prod_prix_CA[\"price_prod\"],id_prod_prix_CA[\"CA_prod\"])[0])\n",
    "print(np.cov(id_prod_prix_CA[\"price_prod\"],id_prod_prix_CA[\"CA_prod\"],ddof=0)[1,0])"
   ]
  },
  {
   "cell_type": "code",
   "execution_count": 55,
   "id": "430ddd13",
   "metadata": {},
   "outputs": [],
   "source": [
    "from scipy.stats import pearsonr"
   ]
  },
  {
   "cell_type": "code",
   "execution_count": 56,
   "id": "08520dc1",
   "metadata": {},
   "outputs": [],
   "source": [
    "stat, p = pearsonr(id_prod_prix_CA.price_prod, id_prod_prix_CA.CA_prod)"
   ]
  },
  {
   "cell_type": "code",
   "execution_count": 57,
   "id": "7b517932",
   "metadata": {},
   "outputs": [
    {
     "name": "stdout",
     "output_type": "stream",
     "text": [
      "stat=0.249, p=0.000\n",
      "Probably dependent\n"
     ]
    }
   ],
   "source": [
    "print('stat=%.3f, p=%.3f' % (stat, p)) #p significatif different de 0 #stat force de la correlatio\n",
    "if p > 0.05:\n",
    "\tprint('Probably independent')\n",
    "else:\n",
    "\tprint('Probably dependent')"
   ]
  },
  {
   "cell_type": "code",
   "execution_count": 58,
   "id": "3ddcf8e2",
   "metadata": {},
   "outputs": [
    {
     "name": "stdout",
     "output_type": "stream",
     "text": [
      "price_prod      61.981406\n",
      "intercept     2281.789513\n",
      "dtype: float64\n"
     ]
    }
   ],
   "source": [
    "Y = id_prod_prix_CA['CA_prod']\n",
    "X = id_prod_prix_CA[['price_prod']]\n",
    "X = X.copy() # On modifiera X, on en crée donc une copie\n",
    "X['intercept'] = 1.\n",
    "result = sm.OLS(Y, X).fit() # OLS = Ordinary Least Square (Moindres Carrés Ordinaire)\n",
    "a,b = result.params['price_prod'],result.params['intercept']\n",
    "\n",
    "print(result.params)"
   ]
  },
  {
   "cell_type": "code",
   "execution_count": 59,
   "id": "801cd7d2",
   "metadata": {},
   "outputs": [
    {
     "data": {
      "image/png": "[encoded data removed]",
      "text/plain": [
       "<Figure size 432x288 with 1 Axes>"
      ]
     },
     "metadata": {
      "needs_background": "light"
     },
     "output_type": "display_data"
    }
   ],
   "source": [
    "plt.plot(id_prod_prix_CA.price_prod,id_prod_prix_CA.CA_prod, \"o\")\n",
    "plt.plot(np.arange(300),[a*x+b for x in np.arange(300)])\n",
    "plt.xlabel(\"price_prod\")\n",
    "plt.ylabel(\"CA_prod\")\n",
    "plt.show()"
   ]
  },
  {
   "cell_type": "code",
   "execution_count": 60,
   "id": "bad2f9d9",
   "metadata": {
    "scrolled": true
   },
   "outputs": [
    {
     "name": "stdout",
     "output_type": "stream",
     "text": [
      "price_prod      72.618337\n",
      "intercept     2104.341640\n",
      "dtype: float64\n"
     ]
    },
    {
     "data": {
      "image/png": "[encoded data removed]",
      "text/plain": [
       "<Figure size 432x288 with 1 Axes>"
      ]
     },
     "metadata": {
      "needs_background": "light"
     },
     "output_type": "display_data"
    }
   ],
   "source": [
    "id_prod_prix_CA = id_prod_prix_CA.loc[id_prod_prix_CA['price_prod'] < 150, :]\n",
    "\n",
    "Y = id_prod_prix_CA['CA_prod']\n",
    "X = id_prod_prix_CA[['price_prod']]\n",
    "X = X.copy() # On modifiera X, on en crée donc une copie\n",
    "X['intercept'] = 1.\n",
    "result = sm.OLS(Y, X).fit() # OLS = Ordinary Least Square (Moindres Carrés Ordinaire)\n",
    "a_new,b_new = result.params['price_prod'],result.params['intercept']\n",
    "\n",
    "print(result.params)\n",
    "\n",
    "plt.plot(id_prod_prix_CA.price_prod,id_prod_prix_CA.CA_prod, \"o\")\n",
    "plt.plot(np.arange(150),[a_new*x+b_new for x in np.arange(150)])\n",
    "plt.plot(np.arange(150),[a*x+b for x in np.arange(150)])\n",
    "plt.xlabel(\"price_prod\")\n",
    "plt.ylabel(\"CA_prod\")\n",
    "plt.show()\n"
   ]
  },
  {
   "cell_type": "code",
   "execution_count": 61,
   "id": "bb321bba",
   "metadata": {},
   "outputs": [
    {
     "data": {
      "text/plain": [
       "4264"
      ]
     },
     "execution_count": 61,
     "metadata": {},
     "output_type": "execute_result"
    }
   ],
   "source": [
    "b = 2104\n",
    "a = 72\n",
    "X = 30\n",
    "CA_prod = X*a+b\n",
    "CA_prod"
   ]
  }
 ],
 "metadata": {
  "hide_input": false,
  "kernelspec": {
   "display_name": "Python 3 (ipykernel)",
   "language": "python",
   "name": "python3"
  },
  "language_info": {
   "codemirror_mode": {
    "name": "ipython",
    "version": 3
   },
   "file_extension": ".py",
   "mimetype": "text/x-python",
   "name": "python",
   "nbconvert_exporter": "python",
   "pygments_lexer": "ipython3",
   "version": "3.9.12"
  }
 },
 "nbformat": 4,
 "nbformat_minor": 5
}
